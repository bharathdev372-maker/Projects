{
 "cells": [
  {
   "cell_type": "markdown",
   "metadata": {},
   "source": [
    "I was working on an online retail dataset when I noticed that many customers had not been active for at least six months. A large portion of them had made only one purchase and never returned.\n",
    "I realized that if I could identify customers who were likely to purchase again within the next three months, it would be valuable for the marketing team. They could then approach these customers with personalized promotions and targeted retention strategies\n",
    "\n",
    "My task was to build a predictive model that could classify whether a customer will make a purchase within the next 3 months after their latest transaction. The goal was to help the business focus marketing efforts on high-potential customers.\n",
    "\n",
    "I took the following steps:\n",
    "\n",
    "    Data Preprocessing: Cleaned the transactional dataset (removed returns, handled missing CustomerIDs, etc.).\n",
    "\n",
    "    Feature Engineering: Created customer-level features like:\n",
    "\n",
    "    Recency (days since last purchase)\n",
    "\n",
    "    Frequency (number of purchases)\n",
    "\n",
    "    Monetary (total spend)\n",
    "\n",
    "    Average basket size\n",
    "\n",
    "    Time gap between purchases\n",
    "\n",
    "    Month of last purchase\n",
    "\n",
    "    Target Variable: For each customer, I marked the target as 1 if they made any purchase in the next 3 months, else 0.\n",
    "\n",
    "    Modeling: Trained and tested multiple classifiers — Logistic Regression, Random Forest, and XGBoost.\n",
    "\n",
    "    Evaluation: Chose the best model based on metrics like AUC-ROC, precision, and recall, since class imbalance was present.\n",
    "\n",
    "I trained and tested the model using historical transaction data, simulating future purchases through a time-based holdout.\n",
    "The final model achieved an AUC-ROC of 0.96, with 91% precision and 99% recall on the test set.\n",
    "It accurately identified customers likely to return within 3 months while minimizing false positives.\n",
    "The output can help the marketing team strategically approach those high-potential customers through targeted promotions or campaigns."
   ]
  },
  {
   "cell_type": "code",
   "execution_count": 1,
   "metadata": {
    "id": "FqTxxnm0aE8N"
   },
   "outputs": [],
   "source": [
    "import pandas as pd\n",
    "import numpy as np\n",
    "import matplotlib.pyplot as plt\n",
    "import seaborn as sns\n",
    "import warnings\n",
    "warnings.filterwarnings('ignore')"
   ]
  },
  {
   "cell_type": "code",
   "execution_count": 2,
   "metadata": {
    "id": "iRTb1uF0v62r"
   },
   "outputs": [],
   "source": [
    "df = pd.read_csv('og.csv')"
   ]
  },
  {
   "cell_type": "code",
   "execution_count": 3,
   "metadata": {},
   "outputs": [],
   "source": [
    "pd.set_option('display.max_columns', None)\n",
    "df = df.drop(columns = 'Unnamed: 0')"
   ]
  },
  {
   "cell_type": "code",
   "execution_count": 4,
   "metadata": {},
   "outputs": [
    {
     "data": {
      "text/html": [
       "<div>\n",
       "<style scoped>\n",
       "    .dataframe tbody tr th:only-of-type {\n",
       "        vertical-align: middle;\n",
       "    }\n",
       "\n",
       "    .dataframe tbody tr th {\n",
       "        vertical-align: top;\n",
       "    }\n",
       "\n",
       "    .dataframe thead th {\n",
       "        text-align: right;\n",
       "    }\n",
       "</style>\n",
       "<table border=\"1\" class=\"dataframe\">\n",
       "  <thead>\n",
       "    <tr style=\"text-align: right;\">\n",
       "      <th></th>\n",
       "      <th>InvoiceNo</th>\n",
       "      <th>StockCode</th>\n",
       "      <th>Description</th>\n",
       "      <th>Quantity</th>\n",
       "      <th>InvoiceDate</th>\n",
       "      <th>UnitPrice</th>\n",
       "      <th>CustomerID</th>\n",
       "      <th>Country</th>\n",
       "      <th>invoice_mnth</th>\n",
       "      <th>invoicedayweek</th>\n",
       "      <th>Total_revenue</th>\n",
       "      <th>InvoiceIdentity</th>\n",
       "      <th>Year</th>\n",
       "      <th>Quantity_group</th>\n",
       "      <th>UniPrice_group</th>\n",
       "      <th>TotalRevenue_group</th>\n",
       "      <th>invoice_month_name</th>\n",
       "      <th>classify_customer</th>\n",
       "      <th>Country_Segment</th>\n",
       "      <th>invoice_month</th>\n",
       "      <th>cohort_month</th>\n",
       "      <th>cohort_index</th>\n",
       "    </tr>\n",
       "  </thead>\n",
       "  <tbody>\n",
       "    <tr>\n",
       "      <th>0</th>\n",
       "      <td>539993</td>\n",
       "      <td>22386</td>\n",
       "      <td>JUMBO BAG PINK POLKADOT</td>\n",
       "      <td>10</td>\n",
       "      <td>2011-01-04 10:00:00</td>\n",
       "      <td>1.95</td>\n",
       "      <td>13313.0</td>\n",
       "      <td>United Kingdom</td>\n",
       "      <td>1</td>\n",
       "      <td>Tuesday</td>\n",
       "      <td>19.5</td>\n",
       "      <td>Normal_Product</td>\n",
       "      <td>2011</td>\n",
       "      <td>5–10</td>\n",
       "      <td>1–5</td>\n",
       "      <td>10–50</td>\n",
       "      <td>Jan</td>\n",
       "      <td>Loyal and High Value</td>\n",
       "      <td>United Kingdom - Loyal and High Value</td>\n",
       "      <td>2011-01</td>\n",
       "      <td>2011-01</td>\n",
       "      <td>0</td>\n",
       "    </tr>\n",
       "    <tr>\n",
       "      <th>1</th>\n",
       "      <td>539993</td>\n",
       "      <td>21499</td>\n",
       "      <td>BLUE POLKADOT WRAP</td>\n",
       "      <td>25</td>\n",
       "      <td>2011-01-04 10:00:00</td>\n",
       "      <td>0.42</td>\n",
       "      <td>13313.0</td>\n",
       "      <td>United Kingdom</td>\n",
       "      <td>1</td>\n",
       "      <td>Tuesday</td>\n",
       "      <td>10.5</td>\n",
       "      <td>Normal_Product</td>\n",
       "      <td>2011</td>\n",
       "      <td>10–50</td>\n",
       "      <td>≤1</td>\n",
       "      <td>10–50</td>\n",
       "      <td>Jan</td>\n",
       "      <td>Loyal and High Value</td>\n",
       "      <td>United Kingdom - Loyal and High Value</td>\n",
       "      <td>2011-01</td>\n",
       "      <td>2011-01</td>\n",
       "      <td>0</td>\n",
       "    </tr>\n",
       "    <tr>\n",
       "      <th>2</th>\n",
       "      <td>539993</td>\n",
       "      <td>21498</td>\n",
       "      <td>RED RETROSPOT WRAP</td>\n",
       "      <td>25</td>\n",
       "      <td>2011-01-04 10:00:00</td>\n",
       "      <td>0.42</td>\n",
       "      <td>13313.0</td>\n",
       "      <td>United Kingdom</td>\n",
       "      <td>1</td>\n",
       "      <td>Tuesday</td>\n",
       "      <td>10.5</td>\n",
       "      <td>Normal_Product</td>\n",
       "      <td>2011</td>\n",
       "      <td>10–50</td>\n",
       "      <td>≤1</td>\n",
       "      <td>10–50</td>\n",
       "      <td>Jan</td>\n",
       "      <td>Loyal and High Value</td>\n",
       "      <td>United Kingdom - Loyal and High Value</td>\n",
       "      <td>2011-01</td>\n",
       "      <td>2011-01</td>\n",
       "      <td>0</td>\n",
       "    </tr>\n",
       "    <tr>\n",
       "      <th>3</th>\n",
       "      <td>539993</td>\n",
       "      <td>22379</td>\n",
       "      <td>RECYCLING BAG RETROSPOT</td>\n",
       "      <td>5</td>\n",
       "      <td>2011-01-04 10:00:00</td>\n",
       "      <td>2.10</td>\n",
       "      <td>13313.0</td>\n",
       "      <td>United Kingdom</td>\n",
       "      <td>1</td>\n",
       "      <td>Tuesday</td>\n",
       "      <td>10.5</td>\n",
       "      <td>Normal_Product</td>\n",
       "      <td>2011</td>\n",
       "      <td>1–5</td>\n",
       "      <td>1–5</td>\n",
       "      <td>10–50</td>\n",
       "      <td>Jan</td>\n",
       "      <td>Loyal and High Value</td>\n",
       "      <td>United Kingdom - Loyal and High Value</td>\n",
       "      <td>2011-01</td>\n",
       "      <td>2011-01</td>\n",
       "      <td>0</td>\n",
       "    </tr>\n",
       "    <tr>\n",
       "      <th>4</th>\n",
       "      <td>539993</td>\n",
       "      <td>20718</td>\n",
       "      <td>RED RETROSPOT SHOPPER BAG</td>\n",
       "      <td>10</td>\n",
       "      <td>2011-01-04 10:00:00</td>\n",
       "      <td>1.25</td>\n",
       "      <td>13313.0</td>\n",
       "      <td>United Kingdom</td>\n",
       "      <td>1</td>\n",
       "      <td>Tuesday</td>\n",
       "      <td>12.5</td>\n",
       "      <td>Normal_Product</td>\n",
       "      <td>2011</td>\n",
       "      <td>5–10</td>\n",
       "      <td>1–5</td>\n",
       "      <td>10–50</td>\n",
       "      <td>Jan</td>\n",
       "      <td>Loyal and High Value</td>\n",
       "      <td>United Kingdom - Loyal and High Value</td>\n",
       "      <td>2011-01</td>\n",
       "      <td>2011-01</td>\n",
       "      <td>0</td>\n",
       "    </tr>\n",
       "  </tbody>\n",
       "</table>\n",
       "</div>"
      ],
      "text/plain": [
       "   InvoiceNo StockCode                Description  Quantity  \\\n",
       "0     539993     22386    JUMBO BAG PINK POLKADOT        10   \n",
       "1     539993     21499         BLUE POLKADOT WRAP        25   \n",
       "2     539993     21498        RED RETROSPOT WRAP         25   \n",
       "3     539993     22379   RECYCLING BAG RETROSPOT          5   \n",
       "4     539993     20718  RED RETROSPOT SHOPPER BAG        10   \n",
       "\n",
       "           InvoiceDate  UnitPrice  CustomerID         Country  invoice_mnth  \\\n",
       "0  2011-01-04 10:00:00       1.95     13313.0  United Kingdom             1   \n",
       "1  2011-01-04 10:00:00       0.42     13313.0  United Kingdom             1   \n",
       "2  2011-01-04 10:00:00       0.42     13313.0  United Kingdom             1   \n",
       "3  2011-01-04 10:00:00       2.10     13313.0  United Kingdom             1   \n",
       "4  2011-01-04 10:00:00       1.25     13313.0  United Kingdom             1   \n",
       "\n",
       "  invoicedayweek  Total_revenue InvoiceIdentity  Year Quantity_group  \\\n",
       "0        Tuesday           19.5  Normal_Product  2011           5–10   \n",
       "1        Tuesday           10.5  Normal_Product  2011          10–50   \n",
       "2        Tuesday           10.5  Normal_Product  2011          10–50   \n",
       "3        Tuesday           10.5  Normal_Product  2011            1–5   \n",
       "4        Tuesday           12.5  Normal_Product  2011           5–10   \n",
       "\n",
       "  UniPrice_group TotalRevenue_group invoice_month_name     classify_customer  \\\n",
       "0            1–5              10–50                Jan  Loyal and High Value   \n",
       "1             ≤1              10–50                Jan  Loyal and High Value   \n",
       "2             ≤1              10–50                Jan  Loyal and High Value   \n",
       "3            1–5              10–50                Jan  Loyal and High Value   \n",
       "4            1–5              10–50                Jan  Loyal and High Value   \n",
       "\n",
       "                         Country_Segment invoice_month cohort_month  \\\n",
       "0  United Kingdom - Loyal and High Value       2011-01      2011-01   \n",
       "1  United Kingdom - Loyal and High Value       2011-01      2011-01   \n",
       "2  United Kingdom - Loyal and High Value       2011-01      2011-01   \n",
       "3  United Kingdom - Loyal and High Value       2011-01      2011-01   \n",
       "4  United Kingdom - Loyal and High Value       2011-01      2011-01   \n",
       "\n",
       "   cohort_index  \n",
       "0             0  \n",
       "1             0  \n",
       "2             0  \n",
       "3             0  \n",
       "4             0  "
      ]
     },
     "execution_count": 4,
     "metadata": {},
     "output_type": "execute_result"
    }
   ],
   "source": [
    "df.head()"
   ]
  },
  {
   "cell_type": "code",
   "execution_count": 5,
   "metadata": {},
   "outputs": [],
   "source": [
    "df['InvoiceDate'] = pd.to_datetime(df['InvoiceDate'])"
   ]
  },
  {
   "cell_type": "code",
   "execution_count": 6,
   "metadata": {},
   "outputs": [],
   "source": [
    "df['purchase_date'] = df['InvoiceDate'].dt.date"
   ]
  },
  {
   "cell_type": "code",
   "execution_count": 7,
   "metadata": {},
   "outputs": [],
   "source": [
    "q1 = ['Jan', 'Feb', 'Mar']\n",
    "q2 = ['Apr', 'May', 'Jun']\n",
    "q3 = ['Jul', 'Aug', 'Sep']\n",
    "q4 = ['Oct', 'Nov', 'Dec']"
   ]
  },
  {
   "cell_type": "code",
   "execution_count": 8,
   "metadata": {},
   "outputs": [],
   "source": [
    "qt1 = df[df['invoice_month_name'].isin(q1)]\n",
    "qt2 = df[df['invoice_month_name'].isin(q2)]\n",
    "qt3 = df[df['invoice_month_name'].isin(q3)]\n",
    "qt4 = df[df['invoice_month_name'].isin(q4)]"
   ]
  },
  {
   "cell_type": "code",
   "execution_count": 9,
   "metadata": {},
   "outputs": [],
   "source": [
    "def summary(q_df):\n",
    "    q1_summary = q_df.groupby('CustomerID').agg({'Description':'nunique', 'Total_revenue':'sum', 'UnitPrice':['mean', 'std'], 'InvoiceNo':'nunique',\n",
    "                                            'purchase_date':['min','max'], 'Quantity':'sum'\n",
    "                                  }).reset_index()\n",
    "    \n",
    "    q1_summary.columns = ['CustomerID', 'no.of_products', 'monetary','unitprice_mean', 'unitprice_std','no.of_transcation', 'purchase_date_min', 'purchase_date_max', 'tot_qn']\n",
    "    \n",
    "    q1_summary['purchase_date_max'] = pd.to_datetime(q1_summary['purchase_date_max'])\n",
    "    q1_summary['purchase_date_min'] = pd.to_datetime(q1_summary['purchase_date_min'])\n",
    "    q1_summary['day_diff'] = q1_summary['purchase_date_max'] - q1_summary['purchase_date_min']\n",
    "    q1_summary['day_diff'] = q1_summary['day_diff'].dt.days\n",
    "    \n",
    "    q1_end_date = pd.to_datetime(q_df['purchase_date'].max())\n",
    "    q1_summary['recency'] = (q1_end_date - q1_summary['purchase_date_max']).dt.days\n",
    "\n",
    "    jn = q_df[['CustomerID', 'classify_customer']]\n",
    "    jn.drop_duplicates(subset = 'CustomerID', inplace = True)\n",
    "    q1_df = pd.merge(q1_summary, jn, on = 'CustomerID', how = 'left')\n",
    "\n",
    "    qt1_df = q1_df.drop(columns = ['purchase_date_min', 'purchase_date_max'])\n",
    "\n",
    "    return qt1_df"
   ]
  },
  {
   "cell_type": "code",
   "execution_count": 10,
   "metadata": {},
   "outputs": [],
   "source": [
    "q1_df = summary(qt1)"
   ]
  },
  {
   "cell_type": "code",
   "execution_count": 11,
   "metadata": {},
   "outputs": [],
   "source": [
    "q2_df = summary(qt2)\n",
    "q3_df = summary(qt3)\n",
    "q4_df = summary(qt4)"
   ]
  },
  {
   "cell_type": "code",
   "execution_count": 12,
   "metadata": {},
   "outputs": [],
   "source": [
    "q12_df = pd.concat([q1_df, q2_df], ignore_index = True)"
   ]
  },
  {
   "cell_type": "code",
   "execution_count": 13,
   "metadata": {},
   "outputs": [],
   "source": [
    "q34_df = pd.concat([q3_df, q4_df], ignore_index = True)"
   ]
  },
  {
   "cell_type": "code",
   "execution_count": 14,
   "metadata": {},
   "outputs": [],
   "source": [
    "final_df = pd.concat([q12_df, q34_df], ignore_index = True)"
   ]
  },
  {
   "cell_type": "code",
   "execution_count": 15,
   "metadata": {},
   "outputs": [
    {
     "data": {
      "text/plain": [
       "(8456, 10)"
      ]
     },
     "execution_count": 15,
     "metadata": {},
     "output_type": "execute_result"
    }
   ],
   "source": [
    "final_df.shape"
   ]
  },
  {
   "cell_type": "code",
   "execution_count": 16,
   "metadata": {},
   "outputs": [
    {
     "data": {
      "text/html": [
       "<div>\n",
       "<style scoped>\n",
       "    .dataframe tbody tr th:only-of-type {\n",
       "        vertical-align: middle;\n",
       "    }\n",
       "\n",
       "    .dataframe tbody tr th {\n",
       "        vertical-align: top;\n",
       "    }\n",
       "\n",
       "    .dataframe thead th {\n",
       "        text-align: right;\n",
       "    }\n",
       "</style>\n",
       "<table border=\"1\" class=\"dataframe\">\n",
       "  <thead>\n",
       "    <tr style=\"text-align: right;\">\n",
       "      <th></th>\n",
       "      <th>CustomerID</th>\n",
       "      <th>no.of_products</th>\n",
       "      <th>monetary</th>\n",
       "      <th>unitprice_mean</th>\n",
       "      <th>unitprice_std</th>\n",
       "      <th>no.of_transcation</th>\n",
       "      <th>tot_qn</th>\n",
       "      <th>day_diff</th>\n",
       "      <th>recency</th>\n",
       "      <th>classify_customer</th>\n",
       "    </tr>\n",
       "  </thead>\n",
       "  <tbody>\n",
       "    <tr>\n",
       "      <th>0</th>\n",
       "      <td>12347.0</td>\n",
       "      <td>29</td>\n",
       "      <td>475.39</td>\n",
       "      <td>2.523103</td>\n",
       "      <td>2.433827</td>\n",
       "      <td>1</td>\n",
       "      <td>315</td>\n",
       "      <td>0</td>\n",
       "      <td>64</td>\n",
       "      <td>Loyal and High Value</td>\n",
       "    </tr>\n",
       "    <tr>\n",
       "      <th>1</th>\n",
       "      <td>12348.0</td>\n",
       "      <td>5</td>\n",
       "      <td>187.44</td>\n",
       "      <td>0.402000</td>\n",
       "      <td>0.250440</td>\n",
       "      <td>1</td>\n",
       "      <td>600</td>\n",
       "      <td>0</td>\n",
       "      <td>65</td>\n",
       "      <td>Low Engagement</td>\n",
       "    </tr>\n",
       "    <tr>\n",
       "      <th>2</th>\n",
       "      <td>12350.0</td>\n",
       "      <td>16</td>\n",
       "      <td>294.40</td>\n",
       "      <td>1.581250</td>\n",
       "      <td>0.578756</td>\n",
       "      <td>1</td>\n",
       "      <td>196</td>\n",
       "      <td>0</td>\n",
       "      <td>57</td>\n",
       "      <td>Low Engagement</td>\n",
       "    </tr>\n",
       "    <tr>\n",
       "      <th>3</th>\n",
       "      <td>12352.0</td>\n",
       "      <td>24</td>\n",
       "      <td>521.18</td>\n",
       "      <td>4.080385</td>\n",
       "      <td>2.979813</td>\n",
       "      <td>3</td>\n",
       "      <td>186</td>\n",
       "      <td>34</td>\n",
       "      <td>9</td>\n",
       "      <td>Loyal and High Value</td>\n",
       "    </tr>\n",
       "    <tr>\n",
       "      <th>4</th>\n",
       "      <td>12356.0</td>\n",
       "      <td>35</td>\n",
       "      <td>1947.62</td>\n",
       "      <td>2.748000</td>\n",
       "      <td>3.018054</td>\n",
       "      <td>1</td>\n",
       "      <td>1198</td>\n",
       "      <td>0</td>\n",
       "      <td>72</td>\n",
       "      <td>Bulk Only</td>\n",
       "    </tr>\n",
       "  </tbody>\n",
       "</table>\n",
       "</div>"
      ],
      "text/plain": [
       "   CustomerID  no.of_products  monetary  unitprice_mean  unitprice_std  \\\n",
       "0     12347.0              29    475.39        2.523103       2.433827   \n",
       "1     12348.0               5    187.44        0.402000       0.250440   \n",
       "2     12350.0              16    294.40        1.581250       0.578756   \n",
       "3     12352.0              24    521.18        4.080385       2.979813   \n",
       "4     12356.0              35   1947.62        2.748000       3.018054   \n",
       "\n",
       "   no.of_transcation  tot_qn  day_diff  recency     classify_customer  \n",
       "0                  1     315         0       64  Loyal and High Value  \n",
       "1                  1     600         0       65        Low Engagement  \n",
       "2                  1     196         0       57        Low Engagement  \n",
       "3                  3     186        34        9  Loyal and High Value  \n",
       "4                  1    1198         0       72             Bulk Only  "
      ]
     },
     "execution_count": 16,
     "metadata": {},
     "output_type": "execute_result"
    }
   ],
   "source": [
    "final_df.head()"
   ]
  },
  {
   "cell_type": "code",
   "execution_count": 17,
   "metadata": {},
   "outputs": [
    {
     "data": {
      "text/html": [
       "<div>\n",
       "<style scoped>\n",
       "    .dataframe tbody tr th:only-of-type {\n",
       "        vertical-align: middle;\n",
       "    }\n",
       "\n",
       "    .dataframe tbody tr th {\n",
       "        vertical-align: top;\n",
       "    }\n",
       "\n",
       "    .dataframe thead th {\n",
       "        text-align: right;\n",
       "    }\n",
       "</style>\n",
       "<table border=\"1\" class=\"dataframe\">\n",
       "  <thead>\n",
       "    <tr style=\"text-align: right;\">\n",
       "      <th></th>\n",
       "      <th>CustomerID</th>\n",
       "      <th>no.of_products</th>\n",
       "      <th>monetary</th>\n",
       "      <th>unitprice_mean</th>\n",
       "      <th>unitprice_std</th>\n",
       "      <th>no.of_transcation</th>\n",
       "      <th>tot_qn</th>\n",
       "      <th>day_diff</th>\n",
       "      <th>recency</th>\n",
       "    </tr>\n",
       "  </thead>\n",
       "  <tbody>\n",
       "    <tr>\n",
       "      <th>count</th>\n",
       "      <td>8456.000000</td>\n",
       "      <td>8456.000000</td>\n",
       "      <td>8456.000000</td>\n",
       "      <td>8456.000000</td>\n",
       "      <td>8279.000000</td>\n",
       "      <td>8456.000000</td>\n",
       "      <td>8456.000000</td>\n",
       "      <td>8456.000000</td>\n",
       "      <td>8456.000000</td>\n",
       "    </tr>\n",
       "    <tr>\n",
       "      <th>mean</th>\n",
       "      <td>15268.139782</td>\n",
       "      <td>36.162252</td>\n",
       "      <td>919.202494</td>\n",
       "      <td>3.243580</td>\n",
       "      <td>2.756541</td>\n",
       "      <td>1.997162</td>\n",
       "      <td>546.432947</td>\n",
       "      <td>16.598746</td>\n",
       "      <td>30.432474</td>\n",
       "    </tr>\n",
       "    <tr>\n",
       "      <th>std</th>\n",
       "      <td>1722.265807</td>\n",
       "      <td>47.401559</td>\n",
       "      <td>3044.143126</td>\n",
       "      <td>4.931968</td>\n",
       "      <td>3.688409</td>\n",
       "      <td>2.453251</td>\n",
       "      <td>1695.370229</td>\n",
       "      <td>25.048394</td>\n",
       "      <td>23.928771</td>\n",
       "    </tr>\n",
       "    <tr>\n",
       "      <th>min</th>\n",
       "      <td>12347.000000</td>\n",
       "      <td>1.000000</td>\n",
       "      <td>0.850000</td>\n",
       "      <td>0.060000</td>\n",
       "      <td>0.000000</td>\n",
       "      <td>1.000000</td>\n",
       "      <td>1.000000</td>\n",
       "      <td>0.000000</td>\n",
       "      <td>0.000000</td>\n",
       "    </tr>\n",
       "    <tr>\n",
       "      <th>25%</th>\n",
       "      <td>13789.250000</td>\n",
       "      <td>12.000000</td>\n",
       "      <td>229.027500</td>\n",
       "      <td>2.080000</td>\n",
       "      <td>1.567216</td>\n",
       "      <td>1.000000</td>\n",
       "      <td>120.000000</td>\n",
       "      <td>0.000000</td>\n",
       "      <td>10.000000</td>\n",
       "    </tr>\n",
       "    <tr>\n",
       "      <th>50%</th>\n",
       "      <td>15239.500000</td>\n",
       "      <td>24.000000</td>\n",
       "      <td>413.645000</td>\n",
       "      <td>2.763333</td>\n",
       "      <td>2.358122</td>\n",
       "      <td>1.000000</td>\n",
       "      <td>250.000000</td>\n",
       "      <td>0.000000</td>\n",
       "      <td>24.000000</td>\n",
       "    </tr>\n",
       "    <tr>\n",
       "      <th>75%</th>\n",
       "      <td>16755.000000</td>\n",
       "      <td>45.000000</td>\n",
       "      <td>841.200000</td>\n",
       "      <td>3.693258</td>\n",
       "      <td>3.147536</td>\n",
       "      <td>2.000000</td>\n",
       "      <td>510.000000</td>\n",
       "      <td>33.250000</td>\n",
       "      <td>48.000000</td>\n",
       "    </tr>\n",
       "    <tr>\n",
       "      <th>max</th>\n",
       "      <td>18287.000000</td>\n",
       "      <td>1077.000000</td>\n",
       "      <td>98118.180000</td>\n",
       "      <td>295.000000</td>\n",
       "      <td>130.926433</td>\n",
       "      <td>68.000000</td>\n",
       "      <td>52993.000000</td>\n",
       "      <td>91.000000</td>\n",
       "      <td>91.000000</td>\n",
       "    </tr>\n",
       "  </tbody>\n",
       "</table>\n",
       "</div>"
      ],
      "text/plain": [
       "         CustomerID  no.of_products      monetary  unitprice_mean  \\\n",
       "count   8456.000000     8456.000000   8456.000000     8456.000000   \n",
       "mean   15268.139782       36.162252    919.202494        3.243580   \n",
       "std     1722.265807       47.401559   3044.143126        4.931968   \n",
       "min    12347.000000        1.000000      0.850000        0.060000   \n",
       "25%    13789.250000       12.000000    229.027500        2.080000   \n",
       "50%    15239.500000       24.000000    413.645000        2.763333   \n",
       "75%    16755.000000       45.000000    841.200000        3.693258   \n",
       "max    18287.000000     1077.000000  98118.180000      295.000000   \n",
       "\n",
       "       unitprice_std  no.of_transcation        tot_qn     day_diff  \\\n",
       "count    8279.000000        8456.000000   8456.000000  8456.000000   \n",
       "mean        2.756541           1.997162    546.432947    16.598746   \n",
       "std         3.688409           2.453251   1695.370229    25.048394   \n",
       "min         0.000000           1.000000      1.000000     0.000000   \n",
       "25%         1.567216           1.000000    120.000000     0.000000   \n",
       "50%         2.358122           1.000000    250.000000     0.000000   \n",
       "75%         3.147536           2.000000    510.000000    33.250000   \n",
       "max       130.926433          68.000000  52993.000000    91.000000   \n",
       "\n",
       "           recency  \n",
       "count  8456.000000  \n",
       "mean     30.432474  \n",
       "std      23.928771  \n",
       "min       0.000000  \n",
       "25%      10.000000  \n",
       "50%      24.000000  \n",
       "75%      48.000000  \n",
       "max      91.000000  "
      ]
     },
     "execution_count": 17,
     "metadata": {},
     "output_type": "execute_result"
    }
   ],
   "source": [
    "final_df.describe()"
   ]
  },
  {
   "cell_type": "code",
   "execution_count": 18,
   "metadata": {},
   "outputs": [
    {
     "data": {
      "text/html": [
       "<div>\n",
       "<style scoped>\n",
       "    .dataframe tbody tr th:only-of-type {\n",
       "        vertical-align: middle;\n",
       "    }\n",
       "\n",
       "    .dataframe tbody tr th {\n",
       "        vertical-align: top;\n",
       "    }\n",
       "\n",
       "    .dataframe thead th {\n",
       "        text-align: right;\n",
       "    }\n",
       "</style>\n",
       "<table border=\"1\" class=\"dataframe\">\n",
       "  <thead>\n",
       "    <tr style=\"text-align: right;\">\n",
       "      <th></th>\n",
       "      <th>CustomerID</th>\n",
       "      <th>no.of_products</th>\n",
       "      <th>monetary</th>\n",
       "      <th>unitprice_mean</th>\n",
       "      <th>unitprice_std</th>\n",
       "      <th>no.of_transcation</th>\n",
       "      <th>tot_qn</th>\n",
       "      <th>day_diff</th>\n",
       "      <th>recency</th>\n",
       "      <th>classify_customer</th>\n",
       "    </tr>\n",
       "  </thead>\n",
       "  <tbody>\n",
       "    <tr>\n",
       "      <th>0</th>\n",
       "      <td>12347.0</td>\n",
       "      <td>29</td>\n",
       "      <td>475.39</td>\n",
       "      <td>2.523103</td>\n",
       "      <td>2.433827</td>\n",
       "      <td>1</td>\n",
       "      <td>315</td>\n",
       "      <td>0</td>\n",
       "      <td>64</td>\n",
       "      <td>Loyal and High Value</td>\n",
       "    </tr>\n",
       "    <tr>\n",
       "      <th>1</th>\n",
       "      <td>12348.0</td>\n",
       "      <td>5</td>\n",
       "      <td>187.44</td>\n",
       "      <td>0.402000</td>\n",
       "      <td>0.250440</td>\n",
       "      <td>1</td>\n",
       "      <td>600</td>\n",
       "      <td>0</td>\n",
       "      <td>65</td>\n",
       "      <td>Low Engagement</td>\n",
       "    </tr>\n",
       "    <tr>\n",
       "      <th>2</th>\n",
       "      <td>12350.0</td>\n",
       "      <td>16</td>\n",
       "      <td>294.40</td>\n",
       "      <td>1.581250</td>\n",
       "      <td>0.578756</td>\n",
       "      <td>1</td>\n",
       "      <td>196</td>\n",
       "      <td>0</td>\n",
       "      <td>57</td>\n",
       "      <td>Low Engagement</td>\n",
       "    </tr>\n",
       "    <tr>\n",
       "      <th>3</th>\n",
       "      <td>12352.0</td>\n",
       "      <td>24</td>\n",
       "      <td>521.18</td>\n",
       "      <td>4.080385</td>\n",
       "      <td>2.979813</td>\n",
       "      <td>3</td>\n",
       "      <td>186</td>\n",
       "      <td>34</td>\n",
       "      <td>9</td>\n",
       "      <td>Loyal and High Value</td>\n",
       "    </tr>\n",
       "    <tr>\n",
       "      <th>4</th>\n",
       "      <td>12356.0</td>\n",
       "      <td>35</td>\n",
       "      <td>1947.62</td>\n",
       "      <td>2.748000</td>\n",
       "      <td>3.018054</td>\n",
       "      <td>1</td>\n",
       "      <td>1198</td>\n",
       "      <td>0</td>\n",
       "      <td>72</td>\n",
       "      <td>Bulk Only</td>\n",
       "    </tr>\n",
       "  </tbody>\n",
       "</table>\n",
       "</div>"
      ],
      "text/plain": [
       "   CustomerID  no.of_products  monetary  unitprice_mean  unitprice_std  \\\n",
       "0     12347.0              29    475.39        2.523103       2.433827   \n",
       "1     12348.0               5    187.44        0.402000       0.250440   \n",
       "2     12350.0              16    294.40        1.581250       0.578756   \n",
       "3     12352.0              24    521.18        4.080385       2.979813   \n",
       "4     12356.0              35   1947.62        2.748000       3.018054   \n",
       "\n",
       "   no.of_transcation  tot_qn  day_diff  recency     classify_customer  \n",
       "0                  1     315         0       64  Loyal and High Value  \n",
       "1                  1     600         0       65        Low Engagement  \n",
       "2                  1     196         0       57        Low Engagement  \n",
       "3                  3     186        34        9  Loyal and High Value  \n",
       "4                  1    1198         0       72             Bulk Only  "
      ]
     },
     "execution_count": 18,
     "metadata": {},
     "output_type": "execute_result"
    }
   ],
   "source": [
    "final_df.head()"
   ]
  },
  {
   "cell_type": "code",
   "execution_count": 19,
   "metadata": {},
   "outputs": [],
   "source": [
    "final_df['target'] = final_df.apply(lambda x: 1 if x['day_diff'] > 0 else 0, axis = 1)"
   ]
  },
  {
   "cell_type": "code",
   "execution_count": 20,
   "metadata": {},
   "outputs": [
    {
     "data": {
      "text/html": [
       "<div>\n",
       "<style scoped>\n",
       "    .dataframe tbody tr th:only-of-type {\n",
       "        vertical-align: middle;\n",
       "    }\n",
       "\n",
       "    .dataframe tbody tr th {\n",
       "        vertical-align: top;\n",
       "    }\n",
       "\n",
       "    .dataframe thead th {\n",
       "        text-align: right;\n",
       "    }\n",
       "</style>\n",
       "<table border=\"1\" class=\"dataframe\">\n",
       "  <thead>\n",
       "    <tr style=\"text-align: right;\">\n",
       "      <th></th>\n",
       "      <th>CustomerID</th>\n",
       "      <th>no.of_products</th>\n",
       "      <th>monetary</th>\n",
       "      <th>unitprice_mean</th>\n",
       "      <th>unitprice_std</th>\n",
       "      <th>no.of_transcation</th>\n",
       "      <th>tot_qn</th>\n",
       "      <th>day_diff</th>\n",
       "      <th>recency</th>\n",
       "      <th>classify_customer</th>\n",
       "      <th>target</th>\n",
       "    </tr>\n",
       "  </thead>\n",
       "  <tbody>\n",
       "    <tr>\n",
       "      <th>0</th>\n",
       "      <td>12347.0</td>\n",
       "      <td>29</td>\n",
       "      <td>475.39</td>\n",
       "      <td>2.523103</td>\n",
       "      <td>2.433827</td>\n",
       "      <td>1</td>\n",
       "      <td>315</td>\n",
       "      <td>0</td>\n",
       "      <td>64</td>\n",
       "      <td>Loyal and High Value</td>\n",
       "      <td>0</td>\n",
       "    </tr>\n",
       "    <tr>\n",
       "      <th>1</th>\n",
       "      <td>12348.0</td>\n",
       "      <td>5</td>\n",
       "      <td>187.44</td>\n",
       "      <td>0.402000</td>\n",
       "      <td>0.250440</td>\n",
       "      <td>1</td>\n",
       "      <td>600</td>\n",
       "      <td>0</td>\n",
       "      <td>65</td>\n",
       "      <td>Low Engagement</td>\n",
       "      <td>0</td>\n",
       "    </tr>\n",
       "    <tr>\n",
       "      <th>2</th>\n",
       "      <td>12350.0</td>\n",
       "      <td>16</td>\n",
       "      <td>294.40</td>\n",
       "      <td>1.581250</td>\n",
       "      <td>0.578756</td>\n",
       "      <td>1</td>\n",
       "      <td>196</td>\n",
       "      <td>0</td>\n",
       "      <td>57</td>\n",
       "      <td>Low Engagement</td>\n",
       "      <td>0</td>\n",
       "    </tr>\n",
       "    <tr>\n",
       "      <th>3</th>\n",
       "      <td>12352.0</td>\n",
       "      <td>24</td>\n",
       "      <td>521.18</td>\n",
       "      <td>4.080385</td>\n",
       "      <td>2.979813</td>\n",
       "      <td>3</td>\n",
       "      <td>186</td>\n",
       "      <td>34</td>\n",
       "      <td>9</td>\n",
       "      <td>Loyal and High Value</td>\n",
       "      <td>1</td>\n",
       "    </tr>\n",
       "    <tr>\n",
       "      <th>4</th>\n",
       "      <td>12356.0</td>\n",
       "      <td>35</td>\n",
       "      <td>1947.62</td>\n",
       "      <td>2.748000</td>\n",
       "      <td>3.018054</td>\n",
       "      <td>1</td>\n",
       "      <td>1198</td>\n",
       "      <td>0</td>\n",
       "      <td>72</td>\n",
       "      <td>Bulk Only</td>\n",
       "      <td>0</td>\n",
       "    </tr>\n",
       "  </tbody>\n",
       "</table>\n",
       "</div>"
      ],
      "text/plain": [
       "   CustomerID  no.of_products  monetary  unitprice_mean  unitprice_std  \\\n",
       "0     12347.0              29    475.39        2.523103       2.433827   \n",
       "1     12348.0               5    187.44        0.402000       0.250440   \n",
       "2     12350.0              16    294.40        1.581250       0.578756   \n",
       "3     12352.0              24    521.18        4.080385       2.979813   \n",
       "4     12356.0              35   1947.62        2.748000       3.018054   \n",
       "\n",
       "   no.of_transcation  tot_qn  day_diff  recency     classify_customer  target  \n",
       "0                  1     315         0       64  Loyal and High Value       0  \n",
       "1                  1     600         0       65        Low Engagement       0  \n",
       "2                  1     196         0       57        Low Engagement       0  \n",
       "3                  3     186        34        9  Loyal and High Value       1  \n",
       "4                  1    1198         0       72             Bulk Only       0  "
      ]
     },
     "execution_count": 20,
     "metadata": {},
     "output_type": "execute_result"
    }
   ],
   "source": [
    "final_df.head()"
   ]
  },
  {
   "cell_type": "code",
   "execution_count": 21,
   "metadata": {},
   "outputs": [],
   "source": [
    "ml_data = final_df.drop(columns = ['day_diff', 'CustomerID'])"
   ]
  },
  {
   "cell_type": "code",
   "execution_count": 22,
   "metadata": {},
   "outputs": [
    {
     "data": {
      "text/html": [
       "<div>\n",
       "<style scoped>\n",
       "    .dataframe tbody tr th:only-of-type {\n",
       "        vertical-align: middle;\n",
       "    }\n",
       "\n",
       "    .dataframe tbody tr th {\n",
       "        vertical-align: top;\n",
       "    }\n",
       "\n",
       "    .dataframe thead th {\n",
       "        text-align: right;\n",
       "    }\n",
       "</style>\n",
       "<table border=\"1\" class=\"dataframe\">\n",
       "  <thead>\n",
       "    <tr style=\"text-align: right;\">\n",
       "      <th></th>\n",
       "      <th>no.of_products</th>\n",
       "      <th>monetary</th>\n",
       "      <th>unitprice_mean</th>\n",
       "      <th>unitprice_std</th>\n",
       "      <th>no.of_transcation</th>\n",
       "      <th>tot_qn</th>\n",
       "      <th>recency</th>\n",
       "      <th>classify_customer</th>\n",
       "      <th>target</th>\n",
       "    </tr>\n",
       "  </thead>\n",
       "  <tbody>\n",
       "    <tr>\n",
       "      <th>0</th>\n",
       "      <td>29</td>\n",
       "      <td>475.39</td>\n",
       "      <td>2.523103</td>\n",
       "      <td>2.433827</td>\n",
       "      <td>1</td>\n",
       "      <td>315</td>\n",
       "      <td>64</td>\n",
       "      <td>Loyal and High Value</td>\n",
       "      <td>0</td>\n",
       "    </tr>\n",
       "    <tr>\n",
       "      <th>1</th>\n",
       "      <td>5</td>\n",
       "      <td>187.44</td>\n",
       "      <td>0.402000</td>\n",
       "      <td>0.250440</td>\n",
       "      <td>1</td>\n",
       "      <td>600</td>\n",
       "      <td>65</td>\n",
       "      <td>Low Engagement</td>\n",
       "      <td>0</td>\n",
       "    </tr>\n",
       "    <tr>\n",
       "      <th>2</th>\n",
       "      <td>16</td>\n",
       "      <td>294.40</td>\n",
       "      <td>1.581250</td>\n",
       "      <td>0.578756</td>\n",
       "      <td>1</td>\n",
       "      <td>196</td>\n",
       "      <td>57</td>\n",
       "      <td>Low Engagement</td>\n",
       "      <td>0</td>\n",
       "    </tr>\n",
       "    <tr>\n",
       "      <th>3</th>\n",
       "      <td>24</td>\n",
       "      <td>521.18</td>\n",
       "      <td>4.080385</td>\n",
       "      <td>2.979813</td>\n",
       "      <td>3</td>\n",
       "      <td>186</td>\n",
       "      <td>9</td>\n",
       "      <td>Loyal and High Value</td>\n",
       "      <td>1</td>\n",
       "    </tr>\n",
       "    <tr>\n",
       "      <th>4</th>\n",
       "      <td>35</td>\n",
       "      <td>1947.62</td>\n",
       "      <td>2.748000</td>\n",
       "      <td>3.018054</td>\n",
       "      <td>1</td>\n",
       "      <td>1198</td>\n",
       "      <td>72</td>\n",
       "      <td>Bulk Only</td>\n",
       "      <td>0</td>\n",
       "    </tr>\n",
       "  </tbody>\n",
       "</table>\n",
       "</div>"
      ],
      "text/plain": [
       "   no.of_products  monetary  unitprice_mean  unitprice_std  no.of_transcation  \\\n",
       "0              29    475.39        2.523103       2.433827                  1   \n",
       "1               5    187.44        0.402000       0.250440                  1   \n",
       "2              16    294.40        1.581250       0.578756                  1   \n",
       "3              24    521.18        4.080385       2.979813                  3   \n",
       "4              35   1947.62        2.748000       3.018054                  1   \n",
       "\n",
       "   tot_qn  recency     classify_customer  target  \n",
       "0     315       64  Loyal and High Value       0  \n",
       "1     600       65        Low Engagement       0  \n",
       "2     196       57        Low Engagement       0  \n",
       "3     186        9  Loyal and High Value       1  \n",
       "4    1198       72             Bulk Only       0  "
      ]
     },
     "execution_count": 22,
     "metadata": {},
     "output_type": "execute_result"
    }
   ],
   "source": [
    "ml_data.head()"
   ]
  },
  {
   "cell_type": "code",
   "execution_count": 23,
   "metadata": {},
   "outputs": [],
   "source": [
    "ml_data['avg_qn_txn'] = ml_data['tot_qn'] / ml_data['no.of_transcation']\n",
    "ml_data['revenue_per_qn'] = ml_data['monetary'] / ml_data['tot_qn']"
   ]
  },
  {
   "cell_type": "code",
   "execution_count": 24,
   "metadata": {},
   "outputs": [
    {
     "data": {
      "text/html": [
       "<div>\n",
       "<style scoped>\n",
       "    .dataframe tbody tr th:only-of-type {\n",
       "        vertical-align: middle;\n",
       "    }\n",
       "\n",
       "    .dataframe tbody tr th {\n",
       "        vertical-align: top;\n",
       "    }\n",
       "\n",
       "    .dataframe thead th {\n",
       "        text-align: right;\n",
       "    }\n",
       "</style>\n",
       "<table border=\"1\" class=\"dataframe\">\n",
       "  <thead>\n",
       "    <tr style=\"text-align: right;\">\n",
       "      <th></th>\n",
       "      <th>no.of_products</th>\n",
       "      <th>monetary</th>\n",
       "      <th>unitprice_mean</th>\n",
       "      <th>unitprice_std</th>\n",
       "      <th>no.of_transcation</th>\n",
       "      <th>tot_qn</th>\n",
       "      <th>recency</th>\n",
       "      <th>classify_customer</th>\n",
       "      <th>target</th>\n",
       "      <th>avg_qn_txn</th>\n",
       "      <th>revenue_per_qn</th>\n",
       "    </tr>\n",
       "  </thead>\n",
       "  <tbody>\n",
       "    <tr>\n",
       "      <th>0</th>\n",
       "      <td>29</td>\n",
       "      <td>475.39</td>\n",
       "      <td>2.523103</td>\n",
       "      <td>2.433827</td>\n",
       "      <td>1</td>\n",
       "      <td>315</td>\n",
       "      <td>64</td>\n",
       "      <td>Loyal and High Value</td>\n",
       "      <td>0</td>\n",
       "      <td>315.0</td>\n",
       "      <td>1.509175</td>\n",
       "    </tr>\n",
       "    <tr>\n",
       "      <th>1</th>\n",
       "      <td>5</td>\n",
       "      <td>187.44</td>\n",
       "      <td>0.402000</td>\n",
       "      <td>0.250440</td>\n",
       "      <td>1</td>\n",
       "      <td>600</td>\n",
       "      <td>65</td>\n",
       "      <td>Low Engagement</td>\n",
       "      <td>0</td>\n",
       "      <td>600.0</td>\n",
       "      <td>0.312400</td>\n",
       "    </tr>\n",
       "    <tr>\n",
       "      <th>2</th>\n",
       "      <td>16</td>\n",
       "      <td>294.40</td>\n",
       "      <td>1.581250</td>\n",
       "      <td>0.578756</td>\n",
       "      <td>1</td>\n",
       "      <td>196</td>\n",
       "      <td>57</td>\n",
       "      <td>Low Engagement</td>\n",
       "      <td>0</td>\n",
       "      <td>196.0</td>\n",
       "      <td>1.502041</td>\n",
       "    </tr>\n",
       "    <tr>\n",
       "      <th>3</th>\n",
       "      <td>24</td>\n",
       "      <td>521.18</td>\n",
       "      <td>4.080385</td>\n",
       "      <td>2.979813</td>\n",
       "      <td>3</td>\n",
       "      <td>186</td>\n",
       "      <td>9</td>\n",
       "      <td>Loyal and High Value</td>\n",
       "      <td>1</td>\n",
       "      <td>62.0</td>\n",
       "      <td>2.802043</td>\n",
       "    </tr>\n",
       "    <tr>\n",
       "      <th>4</th>\n",
       "      <td>35</td>\n",
       "      <td>1947.62</td>\n",
       "      <td>2.748000</td>\n",
       "      <td>3.018054</td>\n",
       "      <td>1</td>\n",
       "      <td>1198</td>\n",
       "      <td>72</td>\n",
       "      <td>Bulk Only</td>\n",
       "      <td>0</td>\n",
       "      <td>1198.0</td>\n",
       "      <td>1.625726</td>\n",
       "    </tr>\n",
       "  </tbody>\n",
       "</table>\n",
       "</div>"
      ],
      "text/plain": [
       "   no.of_products  monetary  unitprice_mean  unitprice_std  no.of_transcation  \\\n",
       "0              29    475.39        2.523103       2.433827                  1   \n",
       "1               5    187.44        0.402000       0.250440                  1   \n",
       "2              16    294.40        1.581250       0.578756                  1   \n",
       "3              24    521.18        4.080385       2.979813                  3   \n",
       "4              35   1947.62        2.748000       3.018054                  1   \n",
       "\n",
       "   tot_qn  recency     classify_customer  target  avg_qn_txn  revenue_per_qn  \n",
       "0     315       64  Loyal and High Value       0       315.0        1.509175  \n",
       "1     600       65        Low Engagement       0       600.0        0.312400  \n",
       "2     196       57        Low Engagement       0       196.0        1.502041  \n",
       "3     186        9  Loyal and High Value       1        62.0        2.802043  \n",
       "4    1198       72             Bulk Only       0      1198.0        1.625726  "
      ]
     },
     "execution_count": 24,
     "metadata": {},
     "output_type": "execute_result"
    }
   ],
   "source": [
    "ml_data.head()"
   ]
  },
  {
   "cell_type": "code",
   "execution_count": 25,
   "metadata": {},
   "outputs": [],
   "source": [
    "x = ml_data.drop(columns = 'target')\n",
    "y = ml_data['target']"
   ]
  },
  {
   "cell_type": "code",
   "execution_count": 26,
   "metadata": {},
   "outputs": [
    {
     "data": {
      "text/html": [
       "<div>\n",
       "<style scoped>\n",
       "    .dataframe tbody tr th:only-of-type {\n",
       "        vertical-align: middle;\n",
       "    }\n",
       "\n",
       "    .dataframe tbody tr th {\n",
       "        vertical-align: top;\n",
       "    }\n",
       "\n",
       "    .dataframe thead th {\n",
       "        text-align: right;\n",
       "    }\n",
       "</style>\n",
       "<table border=\"1\" class=\"dataframe\">\n",
       "  <thead>\n",
       "    <tr style=\"text-align: right;\">\n",
       "      <th></th>\n",
       "      <th>no.of_products</th>\n",
       "      <th>monetary</th>\n",
       "      <th>unitprice_mean</th>\n",
       "      <th>unitprice_std</th>\n",
       "      <th>no.of_transcation</th>\n",
       "      <th>tot_qn</th>\n",
       "      <th>recency</th>\n",
       "      <th>classify_customer</th>\n",
       "      <th>avg_qn_txn</th>\n",
       "      <th>revenue_per_qn</th>\n",
       "    </tr>\n",
       "  </thead>\n",
       "  <tbody>\n",
       "    <tr>\n",
       "      <th>0</th>\n",
       "      <td>29</td>\n",
       "      <td>475.39</td>\n",
       "      <td>2.523103</td>\n",
       "      <td>2.433827</td>\n",
       "      <td>1</td>\n",
       "      <td>315</td>\n",
       "      <td>64</td>\n",
       "      <td>Loyal and High Value</td>\n",
       "      <td>315.0</td>\n",
       "      <td>1.509175</td>\n",
       "    </tr>\n",
       "    <tr>\n",
       "      <th>1</th>\n",
       "      <td>5</td>\n",
       "      <td>187.44</td>\n",
       "      <td>0.402000</td>\n",
       "      <td>0.250440</td>\n",
       "      <td>1</td>\n",
       "      <td>600</td>\n",
       "      <td>65</td>\n",
       "      <td>Low Engagement</td>\n",
       "      <td>600.0</td>\n",
       "      <td>0.312400</td>\n",
       "    </tr>\n",
       "    <tr>\n",
       "      <th>2</th>\n",
       "      <td>16</td>\n",
       "      <td>294.40</td>\n",
       "      <td>1.581250</td>\n",
       "      <td>0.578756</td>\n",
       "      <td>1</td>\n",
       "      <td>196</td>\n",
       "      <td>57</td>\n",
       "      <td>Low Engagement</td>\n",
       "      <td>196.0</td>\n",
       "      <td>1.502041</td>\n",
       "    </tr>\n",
       "    <tr>\n",
       "      <th>3</th>\n",
       "      <td>24</td>\n",
       "      <td>521.18</td>\n",
       "      <td>4.080385</td>\n",
       "      <td>2.979813</td>\n",
       "      <td>3</td>\n",
       "      <td>186</td>\n",
       "      <td>9</td>\n",
       "      <td>Loyal and High Value</td>\n",
       "      <td>62.0</td>\n",
       "      <td>2.802043</td>\n",
       "    </tr>\n",
       "    <tr>\n",
       "      <th>4</th>\n",
       "      <td>35</td>\n",
       "      <td>1947.62</td>\n",
       "      <td>2.748000</td>\n",
       "      <td>3.018054</td>\n",
       "      <td>1</td>\n",
       "      <td>1198</td>\n",
       "      <td>72</td>\n",
       "      <td>Bulk Only</td>\n",
       "      <td>1198.0</td>\n",
       "      <td>1.625726</td>\n",
       "    </tr>\n",
       "  </tbody>\n",
       "</table>\n",
       "</div>"
      ],
      "text/plain": [
       "   no.of_products  monetary  unitprice_mean  unitprice_std  no.of_transcation  \\\n",
       "0              29    475.39        2.523103       2.433827                  1   \n",
       "1               5    187.44        0.402000       0.250440                  1   \n",
       "2              16    294.40        1.581250       0.578756                  1   \n",
       "3              24    521.18        4.080385       2.979813                  3   \n",
       "4              35   1947.62        2.748000       3.018054                  1   \n",
       "\n",
       "   tot_qn  recency     classify_customer  avg_qn_txn  revenue_per_qn  \n",
       "0     315       64  Loyal and High Value       315.0        1.509175  \n",
       "1     600       65        Low Engagement       600.0        0.312400  \n",
       "2     196       57        Low Engagement       196.0        1.502041  \n",
       "3     186        9  Loyal and High Value        62.0        2.802043  \n",
       "4    1198       72             Bulk Only      1198.0        1.625726  "
      ]
     },
     "execution_count": 26,
     "metadata": {},
     "output_type": "execute_result"
    }
   ],
   "source": [
    "x.head()"
   ]
  },
  {
   "cell_type": "code",
   "execution_count": 27,
   "metadata": {},
   "outputs": [
    {
     "data": {
      "text/html": [
       "<div>\n",
       "<style scoped>\n",
       "    .dataframe tbody tr th:only-of-type {\n",
       "        vertical-align: middle;\n",
       "    }\n",
       "\n",
       "    .dataframe tbody tr th {\n",
       "        vertical-align: top;\n",
       "    }\n",
       "\n",
       "    .dataframe thead th {\n",
       "        text-align: right;\n",
       "    }\n",
       "</style>\n",
       "<table border=\"1\" class=\"dataframe\">\n",
       "  <thead>\n",
       "    <tr style=\"text-align: right;\">\n",
       "      <th></th>\n",
       "      <th>no.of_products</th>\n",
       "      <th>monetary</th>\n",
       "      <th>unitprice_mean</th>\n",
       "      <th>unitprice_std</th>\n",
       "      <th>no.of_transcation</th>\n",
       "      <th>tot_qn</th>\n",
       "      <th>recency</th>\n",
       "      <th>avg_qn_txn</th>\n",
       "      <th>revenue_per_qn</th>\n",
       "    </tr>\n",
       "  </thead>\n",
       "  <tbody>\n",
       "    <tr>\n",
       "      <th>no.of_products</th>\n",
       "      <td>1.000000</td>\n",
       "      <td>0.397189</td>\n",
       "      <td>-0.060932</td>\n",
       "      <td>-0.005819</td>\n",
       "      <td>0.638935</td>\n",
       "      <td>0.431308</td>\n",
       "      <td>-0.211938</td>\n",
       "      <td>0.216657</td>\n",
       "      <td>-0.060104</td>\n",
       "    </tr>\n",
       "    <tr>\n",
       "      <th>monetary</th>\n",
       "      <td>0.397189</td>\n",
       "      <td>1.000000</td>\n",
       "      <td>-0.010342</td>\n",
       "      <td>0.001611</td>\n",
       "      <td>0.528775</td>\n",
       "      <td>0.910965</td>\n",
       "      <td>-0.138947</td>\n",
       "      <td>0.442562</td>\n",
       "      <td>-0.007491</td>\n",
       "    </tr>\n",
       "    <tr>\n",
       "      <th>unitprice_mean</th>\n",
       "      <td>-0.060932</td>\n",
       "      <td>-0.010342</td>\n",
       "      <td>1.000000</td>\n",
       "      <td>0.503863</td>\n",
       "      <td>-0.018124</td>\n",
       "      <td>-0.041467</td>\n",
       "      <td>0.036823</td>\n",
       "      <td>-0.094682</td>\n",
       "      <td>0.949663</td>\n",
       "    </tr>\n",
       "    <tr>\n",
       "      <th>unitprice_std</th>\n",
       "      <td>-0.005819</td>\n",
       "      <td>0.001611</td>\n",
       "      <td>0.503863</td>\n",
       "      <td>1.000000</td>\n",
       "      <td>0.000338</td>\n",
       "      <td>-0.022400</td>\n",
       "      <td>0.023896</td>\n",
       "      <td>-0.057122</td>\n",
       "      <td>0.215198</td>\n",
       "    </tr>\n",
       "    <tr>\n",
       "      <th>no.of_transcation</th>\n",
       "      <td>0.638935</td>\n",
       "      <td>0.528775</td>\n",
       "      <td>-0.018124</td>\n",
       "      <td>0.000338</td>\n",
       "      <td>1.000000</td>\n",
       "      <td>0.545367</td>\n",
       "      <td>-0.295275</td>\n",
       "      <td>0.061071</td>\n",
       "      <td>-0.017351</td>\n",
       "    </tr>\n",
       "    <tr>\n",
       "      <th>tot_qn</th>\n",
       "      <td>0.431308</td>\n",
       "      <td>0.910965</td>\n",
       "      <td>-0.041467</td>\n",
       "      <td>-0.022400</td>\n",
       "      <td>0.545367</td>\n",
       "      <td>1.000000</td>\n",
       "      <td>-0.143125</td>\n",
       "      <td>0.543713</td>\n",
       "      <td>-0.036829</td>\n",
       "    </tr>\n",
       "    <tr>\n",
       "      <th>recency</th>\n",
       "      <td>-0.211938</td>\n",
       "      <td>-0.138947</td>\n",
       "      <td>0.036823</td>\n",
       "      <td>0.023896</td>\n",
       "      <td>-0.295275</td>\n",
       "      <td>-0.143125</td>\n",
       "      <td>1.000000</td>\n",
       "      <td>-0.015243</td>\n",
       "      <td>0.034258</td>\n",
       "    </tr>\n",
       "    <tr>\n",
       "      <th>avg_qn_txn</th>\n",
       "      <td>0.216657</td>\n",
       "      <td>0.442562</td>\n",
       "      <td>-0.094682</td>\n",
       "      <td>-0.057122</td>\n",
       "      <td>0.061071</td>\n",
       "      <td>0.543713</td>\n",
       "      <td>-0.015243</td>\n",
       "      <td>1.000000</td>\n",
       "      <td>-0.088222</td>\n",
       "    </tr>\n",
       "    <tr>\n",
       "      <th>revenue_per_qn</th>\n",
       "      <td>-0.060104</td>\n",
       "      <td>-0.007491</td>\n",
       "      <td>0.949663</td>\n",
       "      <td>0.215198</td>\n",
       "      <td>-0.017351</td>\n",
       "      <td>-0.036829</td>\n",
       "      <td>0.034258</td>\n",
       "      <td>-0.088222</td>\n",
       "      <td>1.000000</td>\n",
       "    </tr>\n",
       "  </tbody>\n",
       "</table>\n",
       "</div>"
      ],
      "text/plain": [
       "                   no.of_products  monetary  unitprice_mean  unitprice_std  \\\n",
       "no.of_products           1.000000  0.397189       -0.060932      -0.005819   \n",
       "monetary                 0.397189  1.000000       -0.010342       0.001611   \n",
       "unitprice_mean          -0.060932 -0.010342        1.000000       0.503863   \n",
       "unitprice_std           -0.005819  0.001611        0.503863       1.000000   \n",
       "no.of_transcation        0.638935  0.528775       -0.018124       0.000338   \n",
       "tot_qn                   0.431308  0.910965       -0.041467      -0.022400   \n",
       "recency                 -0.211938 -0.138947        0.036823       0.023896   \n",
       "avg_qn_txn               0.216657  0.442562       -0.094682      -0.057122   \n",
       "revenue_per_qn          -0.060104 -0.007491        0.949663       0.215198   \n",
       "\n",
       "                   no.of_transcation    tot_qn   recency  avg_qn_txn  \\\n",
       "no.of_products              0.638935  0.431308 -0.211938    0.216657   \n",
       "monetary                    0.528775  0.910965 -0.138947    0.442562   \n",
       "unitprice_mean             -0.018124 -0.041467  0.036823   -0.094682   \n",
       "unitprice_std               0.000338 -0.022400  0.023896   -0.057122   \n",
       "no.of_transcation           1.000000  0.545367 -0.295275    0.061071   \n",
       "tot_qn                      0.545367  1.000000 -0.143125    0.543713   \n",
       "recency                    -0.295275 -0.143125  1.000000   -0.015243   \n",
       "avg_qn_txn                  0.061071  0.543713 -0.015243    1.000000   \n",
       "revenue_per_qn             -0.017351 -0.036829  0.034258   -0.088222   \n",
       "\n",
       "                   revenue_per_qn  \n",
       "no.of_products          -0.060104  \n",
       "monetary                -0.007491  \n",
       "unitprice_mean           0.949663  \n",
       "unitprice_std            0.215198  \n",
       "no.of_transcation       -0.017351  \n",
       "tot_qn                  -0.036829  \n",
       "recency                  0.034258  \n",
       "avg_qn_txn              -0.088222  \n",
       "revenue_per_qn           1.000000  "
      ]
     },
     "execution_count": 27,
     "metadata": {},
     "output_type": "execute_result"
    }
   ],
   "source": [
    "x.select_dtypes(include=['int64', 'float64']).corr()"
   ]
  },
  {
   "cell_type": "code",
   "execution_count": 28,
   "metadata": {},
   "outputs": [
    {
     "data": {
      "text/plain": [
       "target               1.000000\n",
       "no.of_transcation    0.494827\n",
       "no.of_products       0.331019\n",
       "tot_qn               0.219947\n",
       "monetary             0.211500\n",
       "avg_qn_txn           0.004892\n",
       "unitprice_std        0.003596\n",
       "unitprice_mean      -0.014804\n",
       "revenue_per_qn      -0.018024\n",
       "recency             -0.427077\n",
       "Name: target, dtype: float64"
      ]
     },
     "execution_count": 28,
     "metadata": {},
     "output_type": "execute_result"
    }
   ],
   "source": [
    "ml_data.select_dtypes(include=['int64', 'float64']).corr()['target'].sort_values(ascending=False)"
   ]
  },
  {
   "cell_type": "code",
   "execution_count": 29,
   "metadata": {},
   "outputs": [],
   "source": [
    "cat_col = x.select_dtypes(include = 'object').columns\n",
    "num_col = x.select_dtypes(exclude = 'object').columns"
   ]
  },
  {
   "cell_type": "code",
   "execution_count": 30,
   "metadata": {},
   "outputs": [
    {
     "data": {
      "text/plain": [
       "Index(['classify_customer'], dtype='object')"
      ]
     },
     "execution_count": 30,
     "metadata": {},
     "output_type": "execute_result"
    }
   ],
   "source": [
    "cat_col"
   ]
  },
  {
   "cell_type": "code",
   "execution_count": 31,
   "metadata": {},
   "outputs": [
    {
     "data": {
      "text/plain": [
       "Index(['no.of_products', 'monetary', 'unitprice_mean', 'unitprice_std',\n",
       "       'no.of_transcation', 'tot_qn', 'recency', 'avg_qn_txn',\n",
       "       'revenue_per_qn'],\n",
       "      dtype='object')"
      ]
     },
     "execution_count": 31,
     "metadata": {},
     "output_type": "execute_result"
    }
   ],
   "source": [
    "num_col"
   ]
  },
  {
   "cell_type": "code",
   "execution_count": 32,
   "metadata": {},
   "outputs": [
    {
     "data": {
      "text/plain": [
       "no.of_products         0\n",
       "monetary               0\n",
       "unitprice_mean         0\n",
       "unitprice_std        177\n",
       "no.of_transcation      0\n",
       "tot_qn                 0\n",
       "recency                0\n",
       "classify_customer      0\n",
       "target                 0\n",
       "avg_qn_txn             0\n",
       "revenue_per_qn         0\n",
       "dtype: int64"
      ]
     },
     "execution_count": 32,
     "metadata": {},
     "output_type": "execute_result"
    }
   ],
   "source": [
    "ml_data.isna().sum()"
   ]
  },
  {
   "cell_type": "code",
   "execution_count": 33,
   "metadata": {},
   "outputs": [],
   "source": [
    "ml_data['unitprice_std'] = ml_data['unitprice_std'].fillna(0)"
   ]
  },
  {
   "cell_type": "code",
   "execution_count": 34,
   "metadata": {
    "scrolled": true
   },
   "outputs": [
    {
     "data": {
      "image/png": "[encoded data removed]",
      "text/plain": [
       "<Figure size 640x480 with 1 Axes>"
      ]
     },
     "metadata": {},
     "output_type": "display_data"
    },
    {
     "data": {
      "image/png": "[encoded data removed]",
      "text/plain": [
       "<Figure size 640x480 with 1 Axes>"
      ]
     },
     "metadata": {},
     "output_type": "display_data"
    },
    {
     "data": {
      "image/png": "[encoded data removed]",
      "text/plain": [
       "<Figure size 640x480 with 1 Axes>"
      ]
     },
     "metadata": {},
     "output_type": "display_data"
    },
    {
     "data": {
      "image/png": "[encoded data removed]",
      "text/plain": [
       "<Figure size 640x480 with 1 Axes>"
      ]
     },
     "metadata": {},
     "output_type": "display_data"
    },
    {
     "data": {
      "image/png": "[encoded data removed]",
      "text/plain": [
       "<Figure size 640x480 with 1 Axes>"
      ]
     },
     "metadata": {},
     "output_type": "display_data"
    },
    {
     "data": {
      "image/png": "[encoded data removed]",
      "text/plain": [
       "<Figure size 640x480 with 1 Axes>"
      ]
     },
     "metadata": {},
     "output_type": "display_data"
    },
    {
     "data": {
      "image/png": "[encoded data removed]",
      "text/plain": [
       "<Figure size 640x480 with 1 Axes>"
      ]
     },
     "metadata": {},
     "output_type": "display_data"
    },
    {
     "data": {
      "image/png": "[encoded data removed]",
      "text/plain": [
       "<Figure size 640x480 with 1 Axes>"
      ]
     },
     "metadata": {},
     "output_type": "display_data"
    },
    {
     "data": {
      "image/png": "[encoded data removed]",
      "text/plain": [
       "<Figure size 640x480 with 1 Axes>"
      ]
     },
     "metadata": {},
     "output_type": "display_data"
    }
   ],
   "source": [
    "for col in num_col:\n",
    "    sns.histplot(data = ml_data, x = col, kde = True, hue='target')\n",
    "    plt.show()"
   ]
  },
  {
   "cell_type": "code",
   "execution_count": 35,
   "metadata": {},
   "outputs": [
    {
     "data": {
      "text/plain": [
       "<Axes: xlabel='classify_customer', ylabel='count'>"
      ]
     },
     "execution_count": 35,
     "metadata": {},
     "output_type": "execute_result"
    },
    {
     "data": {
      "image/png": "[encoded data removed]",
      "text/plain": [
       "<Figure size 640x480 with 1 Axes>"
      ]
     },
     "metadata": {},
     "output_type": "display_data"
    }
   ],
   "source": [
    "sns.countplot(data = ml_data, x = 'classify_customer', hue = 'target')"
   ]
  },
  {
   "cell_type": "code",
   "execution_count": 36,
   "metadata": {},
   "outputs": [
    {
     "data": {
      "text/html": [
       "<div>\n",
       "<style scoped>\n",
       "    .dataframe tbody tr th:only-of-type {\n",
       "        vertical-align: middle;\n",
       "    }\n",
       "\n",
       "    .dataframe tbody tr th {\n",
       "        vertical-align: top;\n",
       "    }\n",
       "\n",
       "    .dataframe thead th {\n",
       "        text-align: right;\n",
       "    }\n",
       "</style>\n",
       "<table border=\"1\" class=\"dataframe\">\n",
       "  <thead>\n",
       "    <tr style=\"text-align: right;\">\n",
       "      <th></th>\n",
       "      <th>no.of_products</th>\n",
       "      <th>monetary</th>\n",
       "      <th>unitprice_mean</th>\n",
       "      <th>unitprice_std</th>\n",
       "      <th>no.of_transcation</th>\n",
       "      <th>tot_qn</th>\n",
       "      <th>recency</th>\n",
       "      <th>target</th>\n",
       "      <th>avg_qn_txn</th>\n",
       "      <th>revenue_per_qn</th>\n",
       "    </tr>\n",
       "  </thead>\n",
       "  <tbody>\n",
       "    <tr>\n",
       "      <th>count</th>\n",
       "      <td>8456.000000</td>\n",
       "      <td>8456.000000</td>\n",
       "      <td>8456.000000</td>\n",
       "      <td>8456.000000</td>\n",
       "      <td>8456.000000</td>\n",
       "      <td>8456.000000</td>\n",
       "      <td>8456.000000</td>\n",
       "      <td>8456.000000</td>\n",
       "      <td>8456.000000</td>\n",
       "      <td>8456.000000</td>\n",
       "    </tr>\n",
       "    <tr>\n",
       "      <th>mean</th>\n",
       "      <td>36.162252</td>\n",
       "      <td>919.202494</td>\n",
       "      <td>3.243580</td>\n",
       "      <td>2.698841</td>\n",
       "      <td>1.997162</td>\n",
       "      <td>546.432947</td>\n",
       "      <td>30.432474</td>\n",
       "      <td>0.374527</td>\n",
       "      <td>247.563105</td>\n",
       "      <td>2.213123</td>\n",
       "    </tr>\n",
       "    <tr>\n",
       "      <th>std</th>\n",
       "      <td>47.401559</td>\n",
       "      <td>3044.143126</td>\n",
       "      <td>4.931968</td>\n",
       "      <td>3.670873</td>\n",
       "      <td>2.453251</td>\n",
       "      <td>1695.370229</td>\n",
       "      <td>23.928771</td>\n",
       "      <td>0.484029</td>\n",
       "      <td>347.183749</td>\n",
       "      <td>4.646992</td>\n",
       "    </tr>\n",
       "    <tr>\n",
       "      <th>min</th>\n",
       "      <td>1.000000</td>\n",
       "      <td>0.850000</td>\n",
       "      <td>0.060000</td>\n",
       "      <td>0.000000</td>\n",
       "      <td>1.000000</td>\n",
       "      <td>1.000000</td>\n",
       "      <td>0.000000</td>\n",
       "      <td>0.000000</td>\n",
       "      <td>1.000000</td>\n",
       "      <td>0.060000</td>\n",
       "    </tr>\n",
       "    <tr>\n",
       "      <th>25%</th>\n",
       "      <td>12.000000</td>\n",
       "      <td>229.027500</td>\n",
       "      <td>2.080000</td>\n",
       "      <td>1.514352</td>\n",
       "      <td>1.000000</td>\n",
       "      <td>120.000000</td>\n",
       "      <td>10.000000</td>\n",
       "      <td>0.000000</td>\n",
       "      <td>93.187500</td>\n",
       "      <td>1.374583</td>\n",
       "    </tr>\n",
       "    <tr>\n",
       "      <th>50%</th>\n",
       "      <td>24.000000</td>\n",
       "      <td>413.645000</td>\n",
       "      <td>2.763333</td>\n",
       "      <td>2.325640</td>\n",
       "      <td>1.000000</td>\n",
       "      <td>250.000000</td>\n",
       "      <td>24.000000</td>\n",
       "      <td>0.000000</td>\n",
       "      <td>166.500000</td>\n",
       "      <td>1.793578</td>\n",
       "    </tr>\n",
       "    <tr>\n",
       "      <th>75%</th>\n",
       "      <td>45.000000</td>\n",
       "      <td>841.200000</td>\n",
       "      <td>3.693258</td>\n",
       "      <td>3.127779</td>\n",
       "      <td>2.000000</td>\n",
       "      <td>510.000000</td>\n",
       "      <td>48.000000</td>\n",
       "      <td>1.000000</td>\n",
       "      <td>291.375000</td>\n",
       "      <td>2.378089</td>\n",
       "    </tr>\n",
       "    <tr>\n",
       "      <th>max</th>\n",
       "      <td>1077.000000</td>\n",
       "      <td>98118.180000</td>\n",
       "      <td>295.000000</td>\n",
       "      <td>130.926433</td>\n",
       "      <td>68.000000</td>\n",
       "      <td>52993.000000</td>\n",
       "      <td>91.000000</td>\n",
       "      <td>1.000000</td>\n",
       "      <td>9014.000000</td>\n",
       "      <td>295.000000</td>\n",
       "    </tr>\n",
       "  </tbody>\n",
       "</table>\n",
       "</div>"
      ],
      "text/plain": [
       "       no.of_products      monetary  unitprice_mean  unitprice_std  \\\n",
       "count     8456.000000   8456.000000     8456.000000    8456.000000   \n",
       "mean        36.162252    919.202494        3.243580       2.698841   \n",
       "std         47.401559   3044.143126        4.931968       3.670873   \n",
       "min          1.000000      0.850000        0.060000       0.000000   \n",
       "25%         12.000000    229.027500        2.080000       1.514352   \n",
       "50%         24.000000    413.645000        2.763333       2.325640   \n",
       "75%         45.000000    841.200000        3.693258       3.127779   \n",
       "max       1077.000000  98118.180000      295.000000     130.926433   \n",
       "\n",
       "       no.of_transcation        tot_qn      recency       target   avg_qn_txn  \\\n",
       "count        8456.000000   8456.000000  8456.000000  8456.000000  8456.000000   \n",
       "mean            1.997162    546.432947    30.432474     0.374527   247.563105   \n",
       "std             2.453251   1695.370229    23.928771     0.484029   347.183749   \n",
       "min             1.000000      1.000000     0.000000     0.000000     1.000000   \n",
       "25%             1.000000    120.000000    10.000000     0.000000    93.187500   \n",
       "50%             1.000000    250.000000    24.000000     0.000000   166.500000   \n",
       "75%             2.000000    510.000000    48.000000     1.000000   291.375000   \n",
       "max            68.000000  52993.000000    91.000000     1.000000  9014.000000   \n",
       "\n",
       "       revenue_per_qn  \n",
       "count     8456.000000  \n",
       "mean         2.213123  \n",
       "std          4.646992  \n",
       "min          0.060000  \n",
       "25%          1.374583  \n",
       "50%          1.793578  \n",
       "75%          2.378089  \n",
       "max        295.000000  "
      ]
     },
     "execution_count": 36,
     "metadata": {},
     "output_type": "execute_result"
    }
   ],
   "source": [
    "ml_data.describe()"
   ]
  },
  {
   "cell_type": "code",
   "execution_count": 37,
   "metadata": {},
   "outputs": [
    {
     "name": "stdout",
     "output_type": "stream",
     "text": [
      "<class 'pandas.core.frame.DataFrame'>\n",
      "RangeIndex: 8456 entries, 0 to 8455\n",
      "Data columns (total 11 columns):\n",
      " #   Column             Non-Null Count  Dtype  \n",
      "---  ------             --------------  -----  \n",
      " 0   no.of_products     8456 non-null   int64  \n",
      " 1   monetary           8456 non-null   float64\n",
      " 2   unitprice_mean     8456 non-null   float64\n",
      " 3   unitprice_std      8456 non-null   float64\n",
      " 4   no.of_transcation  8456 non-null   int64  \n",
      " 5   tot_qn             8456 non-null   int64  \n",
      " 6   recency            8456 non-null   int64  \n",
      " 7   classify_customer  8456 non-null   object \n",
      " 8   target             8456 non-null   int64  \n",
      " 9   avg_qn_txn         8456 non-null   float64\n",
      " 10  revenue_per_qn     8456 non-null   float64\n",
      "dtypes: float64(5), int64(5), object(1)\n",
      "memory usage: 726.8+ KB\n"
     ]
    }
   ],
   "source": [
    "ml_data.info()"
   ]
  },
  {
   "cell_type": "code",
   "execution_count": 38,
   "metadata": {},
   "outputs": [
    {
     "data": {
      "text/plain": [
       "no.of_products       0\n",
       "monetary             0\n",
       "unitprice_mean       0\n",
       "unitprice_std        0\n",
       "no.of_transcation    0\n",
       "tot_qn               0\n",
       "recency              0\n",
       "classify_customer    0\n",
       "target               0\n",
       "avg_qn_txn           0\n",
       "revenue_per_qn       0\n",
       "dtype: int64"
      ]
     },
     "execution_count": 38,
     "metadata": {},
     "output_type": "execute_result"
    }
   ],
   "source": [
    "ml_data.isna().sum()"
   ]
  },
  {
   "cell_type": "code",
   "execution_count": 39,
   "metadata": {},
   "outputs": [],
   "source": [
    "from sklearn.preprocessing import LabelEncoder, RobustScaler"
   ]
  },
  {
   "cell_type": "code",
   "execution_count": 40,
   "metadata": {},
   "outputs": [],
   "source": [
    "x.fillna(0, inplace = True)"
   ]
  },
  {
   "cell_type": "code",
   "execution_count": 41,
   "metadata": {},
   "outputs": [
    {
     "data": {
      "text/plain": [
       "no.of_products       0\n",
       "monetary             0\n",
       "unitprice_mean       0\n",
       "unitprice_std        0\n",
       "no.of_transcation    0\n",
       "tot_qn               0\n",
       "recency              0\n",
       "classify_customer    0\n",
       "avg_qn_txn           0\n",
       "revenue_per_qn       0\n",
       "dtype: int64"
      ]
     },
     "execution_count": 41,
     "metadata": {},
     "output_type": "execute_result"
    }
   ],
   "source": [
    "x.isna().sum()"
   ]
  },
  {
   "cell_type": "code",
   "execution_count": 42,
   "metadata": {},
   "outputs": [
    {
     "data": {
      "text/html": [
       "<div>\n",
       "<style scoped>\n",
       "    .dataframe tbody tr th:only-of-type {\n",
       "        vertical-align: middle;\n",
       "    }\n",
       "\n",
       "    .dataframe tbody tr th {\n",
       "        vertical-align: top;\n",
       "    }\n",
       "\n",
       "    .dataframe thead th {\n",
       "        text-align: right;\n",
       "    }\n",
       "</style>\n",
       "<table border=\"1\" class=\"dataframe\">\n",
       "  <thead>\n",
       "    <tr style=\"text-align: right;\">\n",
       "      <th></th>\n",
       "      <th>no.of_products</th>\n",
       "      <th>monetary</th>\n",
       "      <th>unitprice_mean</th>\n",
       "      <th>unitprice_std</th>\n",
       "      <th>no.of_transcation</th>\n",
       "      <th>tot_qn</th>\n",
       "      <th>recency</th>\n",
       "      <th>classify_customer</th>\n",
       "      <th>avg_qn_txn</th>\n",
       "      <th>revenue_per_qn</th>\n",
       "    </tr>\n",
       "  </thead>\n",
       "  <tbody>\n",
       "    <tr>\n",
       "      <th>0</th>\n",
       "      <td>29</td>\n",
       "      <td>475.39</td>\n",
       "      <td>2.523103</td>\n",
       "      <td>2.433827</td>\n",
       "      <td>1</td>\n",
       "      <td>315</td>\n",
       "      <td>64</td>\n",
       "      <td>Loyal and High Value</td>\n",
       "      <td>315.0</td>\n",
       "      <td>1.509175</td>\n",
       "    </tr>\n",
       "    <tr>\n",
       "      <th>1</th>\n",
       "      <td>5</td>\n",
       "      <td>187.44</td>\n",
       "      <td>0.402000</td>\n",
       "      <td>0.250440</td>\n",
       "      <td>1</td>\n",
       "      <td>600</td>\n",
       "      <td>65</td>\n",
       "      <td>Low Engagement</td>\n",
       "      <td>600.0</td>\n",
       "      <td>0.312400</td>\n",
       "    </tr>\n",
       "    <tr>\n",
       "      <th>2</th>\n",
       "      <td>16</td>\n",
       "      <td>294.40</td>\n",
       "      <td>1.581250</td>\n",
       "      <td>0.578756</td>\n",
       "      <td>1</td>\n",
       "      <td>196</td>\n",
       "      <td>57</td>\n",
       "      <td>Low Engagement</td>\n",
       "      <td>196.0</td>\n",
       "      <td>1.502041</td>\n",
       "    </tr>\n",
       "    <tr>\n",
       "      <th>3</th>\n",
       "      <td>24</td>\n",
       "      <td>521.18</td>\n",
       "      <td>4.080385</td>\n",
       "      <td>2.979813</td>\n",
       "      <td>3</td>\n",
       "      <td>186</td>\n",
       "      <td>9</td>\n",
       "      <td>Loyal and High Value</td>\n",
       "      <td>62.0</td>\n",
       "      <td>2.802043</td>\n",
       "    </tr>\n",
       "    <tr>\n",
       "      <th>4</th>\n",
       "      <td>35</td>\n",
       "      <td>1947.62</td>\n",
       "      <td>2.748000</td>\n",
       "      <td>3.018054</td>\n",
       "      <td>1</td>\n",
       "      <td>1198</td>\n",
       "      <td>72</td>\n",
       "      <td>Bulk Only</td>\n",
       "      <td>1198.0</td>\n",
       "      <td>1.625726</td>\n",
       "    </tr>\n",
       "  </tbody>\n",
       "</table>\n",
       "</div>"
      ],
      "text/plain": [
       "   no.of_products  monetary  unitprice_mean  unitprice_std  no.of_transcation  \\\n",
       "0              29    475.39        2.523103       2.433827                  1   \n",
       "1               5    187.44        0.402000       0.250440                  1   \n",
       "2              16    294.40        1.581250       0.578756                  1   \n",
       "3              24    521.18        4.080385       2.979813                  3   \n",
       "4              35   1947.62        2.748000       3.018054                  1   \n",
       "\n",
       "   tot_qn  recency     classify_customer  avg_qn_txn  revenue_per_qn  \n",
       "0     315       64  Loyal and High Value       315.0        1.509175  \n",
       "1     600       65        Low Engagement       600.0        0.312400  \n",
       "2     196       57        Low Engagement       196.0        1.502041  \n",
       "3     186        9  Loyal and High Value        62.0        2.802043  \n",
       "4    1198       72             Bulk Only      1198.0        1.625726  "
      ]
     },
     "execution_count": 42,
     "metadata": {},
     "output_type": "execute_result"
    }
   ],
   "source": [
    "x.head()"
   ]
  },
  {
   "cell_type": "code",
   "execution_count": 43,
   "metadata": {},
   "outputs": [
    {
     "data": {
      "text/plain": [
       "array(['Loyal and High Value', 'Low Engagement', 'Bulk Only',\n",
       "       'Loyal Only'], dtype=object)"
      ]
     },
     "execution_count": 43,
     "metadata": {},
     "output_type": "execute_result"
    }
   ],
   "source": [
    "x.classify_customer.unique()"
   ]
  },
  {
   "cell_type": "code",
   "execution_count": 44,
   "metadata": {},
   "outputs": [],
   "source": [
    "from sklearn.model_selection import train_test_split\n",
    "\n",
    "x_train, x_test, y_train, y_test = train_test_split(x, y, test_size = 0.2, random_state = 42)"
   ]
  },
  {
   "cell_type": "code",
   "execution_count": 45,
   "metadata": {},
   "outputs": [
    {
     "data": {
      "text/plain": [
       "array(['Loyal and High Value', 'Low Engagement', 'Bulk Only',\n",
       "       'Loyal Only'], dtype=object)"
      ]
     },
     "execution_count": 45,
     "metadata": {},
     "output_type": "execute_result"
    }
   ],
   "source": [
    "x_test.classify_customer.unique()"
   ]
  },
  {
   "cell_type": "code",
   "execution_count": 46,
   "metadata": {},
   "outputs": [],
   "source": [
    "import pickle\n",
    "label_encoders = {}\n",
    "\n",
    "for col in cat_col:\n",
    "    le = LabelEncoder()\n",
    "    x_train[col] = le.fit_transform(x_train[col])\n",
    "    x_test[col] = le.transform(x_test[col])\n",
    "    label_encoders[col] = le\n",
    "\n",
    "with open('label_encoder.pkl', 'wb') as f:\n",
    "    pickle.dump(label_encoders, f)"
   ]
  },
  {
   "cell_type": "code",
   "execution_count": 47,
   "metadata": {},
   "outputs": [
    {
     "data": {
      "text/html": [
       "<div>\n",
       "<style scoped>\n",
       "    .dataframe tbody tr th:only-of-type {\n",
       "        vertical-align: middle;\n",
       "    }\n",
       "\n",
       "    .dataframe tbody tr th {\n",
       "        vertical-align: top;\n",
       "    }\n",
       "\n",
       "    .dataframe thead th {\n",
       "        text-align: right;\n",
       "    }\n",
       "</style>\n",
       "<table border=\"1\" class=\"dataframe\">\n",
       "  <thead>\n",
       "    <tr style=\"text-align: right;\">\n",
       "      <th></th>\n",
       "      <th>no.of_products</th>\n",
       "      <th>monetary</th>\n",
       "      <th>unitprice_mean</th>\n",
       "      <th>unitprice_std</th>\n",
       "      <th>no.of_transcation</th>\n",
       "      <th>tot_qn</th>\n",
       "      <th>recency</th>\n",
       "      <th>classify_customer</th>\n",
       "      <th>avg_qn_txn</th>\n",
       "      <th>revenue_per_qn</th>\n",
       "    </tr>\n",
       "  </thead>\n",
       "  <tbody>\n",
       "    <tr>\n",
       "      <th>2273</th>\n",
       "      <td>14</td>\n",
       "      <td>2003.96</td>\n",
       "      <td>3.992000</td>\n",
       "      <td>3.268079</td>\n",
       "      <td>6</td>\n",
       "      <td>614</td>\n",
       "      <td>34</td>\n",
       "      <td>3</td>\n",
       "      <td>102.333333</td>\n",
       "      <td>3.263779</td>\n",
       "    </tr>\n",
       "    <tr>\n",
       "      <th>4462</th>\n",
       "      <td>4</td>\n",
       "      <td>1722.60</td>\n",
       "      <td>4.950000</td>\n",
       "      <td>0.000000</td>\n",
       "      <td>2</td>\n",
       "      <td>348</td>\n",
       "      <td>86</td>\n",
       "      <td>3</td>\n",
       "      <td>174.000000</td>\n",
       "      <td>4.950000</td>\n",
       "    </tr>\n",
       "    <tr>\n",
       "      <th>625</th>\n",
       "      <td>29</td>\n",
       "      <td>326.82</td>\n",
       "      <td>0.956207</td>\n",
       "      <td>1.496936</td>\n",
       "      <td>1</td>\n",
       "      <td>645</td>\n",
       "      <td>80</td>\n",
       "      <td>3</td>\n",
       "      <td>645.000000</td>\n",
       "      <td>0.506698</td>\n",
       "    </tr>\n",
       "    <tr>\n",
       "      <th>4478</th>\n",
       "      <td>6</td>\n",
       "      <td>335.52</td>\n",
       "      <td>3.265000</td>\n",
       "      <td>2.675173</td>\n",
       "      <td>1</td>\n",
       "      <td>142</td>\n",
       "      <td>36</td>\n",
       "      <td>1</td>\n",
       "      <td>142.000000</td>\n",
       "      <td>2.362817</td>\n",
       "    </tr>\n",
       "    <tr>\n",
       "      <th>828</th>\n",
       "      <td>74</td>\n",
       "      <td>201.48</td>\n",
       "      <td>1.701630</td>\n",
       "      <td>1.581857</td>\n",
       "      <td>1</td>\n",
       "      <td>126</td>\n",
       "      <td>8</td>\n",
       "      <td>3</td>\n",
       "      <td>126.000000</td>\n",
       "      <td>1.599048</td>\n",
       "    </tr>\n",
       "  </tbody>\n",
       "</table>\n",
       "</div>"
      ],
      "text/plain": [
       "      no.of_products  monetary  unitprice_mean  unitprice_std  \\\n",
       "2273              14   2003.96        3.992000       3.268079   \n",
       "4462               4   1722.60        4.950000       0.000000   \n",
       "625               29    326.82        0.956207       1.496936   \n",
       "4478               6    335.52        3.265000       2.675173   \n",
       "828               74    201.48        1.701630       1.581857   \n",
       "\n",
       "      no.of_transcation  tot_qn  recency  classify_customer  avg_qn_txn  \\\n",
       "2273                  6     614       34                  3  102.333333   \n",
       "4462                  2     348       86                  3  174.000000   \n",
       "625                   1     645       80                  3  645.000000   \n",
       "4478                  1     142       36                  1  142.000000   \n",
       "828                   1     126        8                  3  126.000000   \n",
       "\n",
       "      revenue_per_qn  \n",
       "2273        3.263779  \n",
       "4462        4.950000  \n",
       "625         0.506698  \n",
       "4478        2.362817  \n",
       "828         1.599048  "
      ]
     },
     "execution_count": 47,
     "metadata": {},
     "output_type": "execute_result"
    }
   ],
   "source": [
    "x_test.head()"
   ]
  },
  {
   "cell_type": "code",
   "execution_count": 48,
   "metadata": {},
   "outputs": [],
   "source": [
    "num_scalar = {}\n",
    "\n",
    "for i in num_col:\n",
    "    r_scalar = RobustScaler()\n",
    "    x_train[i] = r_scalar.fit_transform( x_train[[i]])\n",
    "    x_test[i] = r_scalar.transform( x_test[[i]])\n",
    "    num_scalar[i] = r_scalar\n",
    "\n",
    "with open('num_scaling.pkl', 'wb') as f:\n",
    "    pickle.dump(num_scalar, f)"
   ]
  },
  {
   "cell_type": "code",
   "execution_count": 49,
   "metadata": {},
   "outputs": [
    {
     "data": {
      "text/html": [
       "<div>\n",
       "<style scoped>\n",
       "    .dataframe tbody tr th:only-of-type {\n",
       "        vertical-align: middle;\n",
       "    }\n",
       "\n",
       "    .dataframe tbody tr th {\n",
       "        vertical-align: top;\n",
       "    }\n",
       "\n",
       "    .dataframe thead th {\n",
       "        text-align: right;\n",
       "    }\n",
       "</style>\n",
       "<table border=\"1\" class=\"dataframe\">\n",
       "  <thead>\n",
       "    <tr style=\"text-align: right;\">\n",
       "      <th></th>\n",
       "      <th>no.of_products</th>\n",
       "      <th>monetary</th>\n",
       "      <th>unitprice_mean</th>\n",
       "      <th>unitprice_std</th>\n",
       "      <th>no.of_transcation</th>\n",
       "      <th>tot_qn</th>\n",
       "      <th>recency</th>\n",
       "      <th>classify_customer</th>\n",
       "      <th>avg_qn_txn</th>\n",
       "      <th>revenue_per_qn</th>\n",
       "    </tr>\n",
       "  </thead>\n",
       "  <tbody>\n",
       "    <tr>\n",
       "      <th>4119</th>\n",
       "      <td>0.545455</td>\n",
       "      <td>1.298012</td>\n",
       "      <td>-0.126650</td>\n",
       "      <td>-0.160030</td>\n",
       "      <td>0.0</td>\n",
       "      <td>1.066838</td>\n",
       "      <td>1.530201</td>\n",
       "      <td>0</td>\n",
       "      <td>2.525091</td>\n",
       "      <td>0.031452</td>\n",
       "    </tr>\n",
       "    <tr>\n",
       "      <th>8139</th>\n",
       "      <td>-0.242424</td>\n",
       "      <td>-0.098591</td>\n",
       "      <td>0.168502</td>\n",
       "      <td>0.106734</td>\n",
       "      <td>0.0</td>\n",
       "      <td>-0.143959</td>\n",
       "      <td>-0.187919</td>\n",
       "      <td>3</td>\n",
       "      <td>0.141688</td>\n",
       "      <td>0.043566</td>\n",
       "    </tr>\n",
       "    <tr>\n",
       "      <th>8347</th>\n",
       "      <td>-0.212121</td>\n",
       "      <td>-0.075381</td>\n",
       "      <td>1.054532</td>\n",
       "      <td>1.337909</td>\n",
       "      <td>0.0</td>\n",
       "      <td>0.233933</td>\n",
       "      <td>0.214765</td>\n",
       "      <td>3</td>\n",
       "      <td>0.885553</td>\n",
       "      <td>-0.700117</td>\n",
       "    </tr>\n",
       "    <tr>\n",
       "      <th>1583</th>\n",
       "      <td>-0.515152</td>\n",
       "      <td>-0.502318</td>\n",
       "      <td>1.707519</td>\n",
       "      <td>1.172124</td>\n",
       "      <td>0.0</td>\n",
       "      <td>-0.516710</td>\n",
       "      <td>-0.026846</td>\n",
       "      <td>1</td>\n",
       "      <td>-0.592055</td>\n",
       "      <td>0.419817</td>\n",
       "    </tr>\n",
       "    <tr>\n",
       "      <th>1412</th>\n",
       "      <td>3.030303</td>\n",
       "      <td>1.789704</td>\n",
       "      <td>0.147703</td>\n",
       "      <td>0.263727</td>\n",
       "      <td>2.0</td>\n",
       "      <td>1.105398</td>\n",
       "      <td>0.026846</td>\n",
       "      <td>3</td>\n",
       "      <td>0.306992</td>\n",
       "      <td>0.431486</td>\n",
       "    </tr>\n",
       "  </tbody>\n",
       "</table>\n",
       "</div>"
      ],
      "text/plain": [
       "      no.of_products  monetary  unitprice_mean  unitprice_std  \\\n",
       "4119        0.545455  1.298012       -0.126650      -0.160030   \n",
       "8139       -0.242424 -0.098591        0.168502       0.106734   \n",
       "8347       -0.212121 -0.075381        1.054532       1.337909   \n",
       "1583       -0.515152 -0.502318        1.707519       1.172124   \n",
       "1412        3.030303  1.789704        0.147703       0.263727   \n",
       "\n",
       "      no.of_transcation    tot_qn   recency  classify_customer  avg_qn_txn  \\\n",
       "4119                0.0  1.066838  1.530201                  0    2.525091   \n",
       "8139                0.0 -0.143959 -0.187919                  3    0.141688   \n",
       "8347                0.0  0.233933  0.214765                  3    0.885553   \n",
       "1583                0.0 -0.516710 -0.026846                  1   -0.592055   \n",
       "1412                2.0  1.105398  0.026846                  3    0.306992   \n",
       "\n",
       "      revenue_per_qn  \n",
       "4119        0.031452  \n",
       "8139        0.043566  \n",
       "8347       -0.700117  \n",
       "1583        0.419817  \n",
       "1412        0.431486  "
      ]
     },
     "execution_count": 49,
     "metadata": {},
     "output_type": "execute_result"
    }
   ],
   "source": [
    "x_train.head()"
   ]
  },
  {
   "cell_type": "code",
   "execution_count": 50,
   "metadata": {},
   "outputs": [
    {
     "data": {
      "text/plain": [
       "<Axes: xlabel='target', ylabel='count'>"
      ]
     },
     "execution_count": 50,
     "metadata": {},
     "output_type": "execute_result"
    },
    {
     "data": {
      "image/png": "[encoded data removed]",
      "text/plain": [
       "<Figure size 640x480 with 1 Axes>"
      ]
     },
     "metadata": {},
     "output_type": "display_data"
    }
   ],
   "source": [
    "sns.countplot(data = ml_data, x = 'target')"
   ]
  },
  {
   "cell_type": "code",
   "execution_count": 51,
   "metadata": {},
   "outputs": [
    {
     "data": {
      "text/plain": [
       "target\n",
       "0    0.625473\n",
       "1    0.374527\n",
       "Name: proportion, dtype: float64"
      ]
     },
     "execution_count": 51,
     "metadata": {},
     "output_type": "execute_result"
    }
   ],
   "source": [
    "ml_data['target'].value_counts(normalize = True)"
   ]
  },
  {
   "cell_type": "code",
   "execution_count": 52,
   "metadata": {},
   "outputs": [],
   "source": [
    "from sklearn.linear_model import LogisticRegression\n",
    "from sklearn.tree import DecisionTreeClassifier\n",
    "from sklearn.ensemble import RandomForestClassifier\n",
    "from sklearn.svm import SVC\n",
    "from sklearn.neighbors import KNeighborsClassifier"
   ]
  },
  {
   "cell_type": "code",
   "execution_count": 53,
   "metadata": {},
   "outputs": [
    {
     "data": {
      "text/plain": [
       "no.of_products       0\n",
       "monetary             0\n",
       "unitprice_mean       0\n",
       "unitprice_std        0\n",
       "no.of_transcation    0\n",
       "tot_qn               0\n",
       "recency              0\n",
       "classify_customer    0\n",
       "avg_qn_txn           0\n",
       "revenue_per_qn       0\n",
       "dtype: int64"
      ]
     },
     "execution_count": 53,
     "metadata": {},
     "output_type": "execute_result"
    }
   ],
   "source": [
    "x_train.isna().sum()"
   ]
  },
  {
   "cell_type": "code",
   "execution_count": 54,
   "metadata": {},
   "outputs": [],
   "source": [
    "from sklearn.metrics import accuracy_score, precision_score, recall_score, f1_score, classification_report, confusion_matrix"
   ]
  },
  {
   "cell_type": "code",
   "execution_count": 55,
   "metadata": {},
   "outputs": [
    {
     "name": "stdout",
     "output_type": "stream",
     "text": [
      "Logistic Regression Accuracy: 0.9651300236406619\n",
      "Decision Tree Accuracy: 0.950354609929078\n",
      "Random Forest Accuracy: 0.9621749408983451\n",
      "SVM Accuracy: 0.9609929078014184\n",
      "KNN Accuracy: 0.9533096926713948\n"
     ]
    }
   ],
   "source": [
    "models = {\n",
    "    'Logistic Regression': LogisticRegression(),\n",
    "    'Decision Tree': DecisionTreeClassifier(),\n",
    "    'Random Forest': RandomForestClassifier(),\n",
    "    'SVM': SVC(),\n",
    "    'KNN': KNeighborsClassifier()\n",
    "}\n",
    "\n",
    "for name, model in models.items():\n",
    "  model.fit(x_train, y_train)\n",
    "  y_pred = model.predict(x_test)\n",
    "  print(f'{name} Accuracy: {accuracy_score(y_test, y_pred)}')"
   ]
  },
  {
   "cell_type": "code",
   "execution_count": 67,
   "metadata": {},
   "outputs": [
    {
     "name": "stdout",
     "output_type": "stream",
     "text": [
      "0.960401891252955\n",
      "              precision    recall  f1-score   support\n",
      "\n",
      "           0       0.99      0.95      0.97      1086\n",
      "           1       0.91      0.99      0.95       606\n",
      "\n",
      "    accuracy                           0.96      1692\n",
      "   macro avg       0.95      0.97      0.96      1692\n",
      "weighted avg       0.96      0.96      0.96      1692\n",
      "\n"
     ]
    }
   ],
   "source": [
    "rf = RandomForestClassifier(class_weight = 'balanced')\n",
    "rf.fit(x_train, y_train)\n",
    "y_pred = rf.predict(x_test)\n",
    "print(accuracy_score(y_test, y_pred))\n",
    "print(classification_report(y_test, y_pred))"
   ]
  },
  {
   "cell_type": "code",
   "execution_count": 68,
   "metadata": {},
   "outputs": [
    {
     "name": "stdout",
     "output_type": "stream",
     "text": [
      "[[1027   59]\n",
      " [   8  598]]\n"
     ]
    }
   ],
   "source": [
    "print(confusion_matrix(y_test, y_pred))"
   ]
  },
  {
   "cell_type": "code",
   "execution_count": 57,
   "metadata": {},
   "outputs": [],
   "source": [
    "from sklearn.ensemble import AdaBoostClassifier"
   ]
  },
  {
   "cell_type": "code",
   "execution_count": 58,
   "metadata": {},
   "outputs": [
    {
     "name": "stdout",
     "output_type": "stream",
     "text": [
      "0.9627659574468085\n"
     ]
    }
   ],
   "source": [
    "ada_boost = AdaBoostClassifier()\n",
    "ada_boost.fit(x_train, y_train)\n",
    "y_pred = ada_boost.predict(x_test)\n",
    "print(accuracy_score(y_test, y_pred))"
   ]
  },
  {
   "cell_type": "code",
   "execution_count": 59,
   "metadata": {},
   "outputs": [],
   "source": [
    "with open('predictingdays_model.pkl', 'wb') as f:\n",
    "    pickle.dump(rf, f)"
   ]
  },
  {
   "cell_type": "code",
   "execution_count": 60,
   "metadata": {},
   "outputs": [],
   "source": [
    "def result():\n",
    "  test_data = {}\n",
    "\n",
    "  for col in x.columns:\n",
    "    test_data[col] = input(f'Enter {col}: ')\n",
    "\n",
    "  test_df = pd.DataFrame([test_data])\n",
    "  test_df[num_col] = test_df[num_col].astype(float)\n",
    "\n",
    "  with open('label_encoder.pkl', 'rb') as f:\n",
    "    label_encoder = pickle.load(f)\n",
    "\n",
    "  with open('num_scaling.pkl', 'rb') as f:\n",
    "    scalar = pickle.load(f)\n",
    "\n",
    "  for i in cat_col:\n",
    "    test_df[i] = label_encoder[i].transform(test_df[i])\n",
    "\n",
    "  for j in num_col:\n",
    "    test_df[j] = scalar[j].transform(test_df[[j]])\n",
    "\n",
    "  with open('predictingdays_model.pkl', 'rb') as f:\n",
    "    model = pickle.load(f)\n",
    "\n",
    "  pred = model.predict(test_df)\n",
    "  predict_proba = model.predict_proba(test_df)\n",
    "\n",
    "  print(\"Predicted Label:\", pred[0])\n",
    "  print(\"Prediction Probability:\", predict_proba[0])"
   ]
  },
  {
   "cell_type": "code",
   "execution_count": 61,
   "metadata": {},
   "outputs": [
    {
     "data": {
      "text/plain": [
       "array(['Loyal and High Value', 'Low Engagement', 'Bulk Only',\n",
       "       'Loyal Only'], dtype=object)"
      ]
     },
     "execution_count": 61,
     "metadata": {},
     "output_type": "execute_result"
    }
   ],
   "source": [
    "x.classify_customer.unique()"
   ]
  },
  {
   "cell_type": "code",
   "execution_count": 69,
   "metadata": {},
   "outputs": [
    {
     "data": {
      "text/html": [
       "<div>\n",
       "<style scoped>\n",
       "    .dataframe tbody tr th:only-of-type {\n",
       "        vertical-align: middle;\n",
       "    }\n",
       "\n",
       "    .dataframe tbody tr th {\n",
       "        vertical-align: top;\n",
       "    }\n",
       "\n",
       "    .dataframe thead th {\n",
       "        text-align: right;\n",
       "    }\n",
       "</style>\n",
       "<table border=\"1\" class=\"dataframe\">\n",
       "  <thead>\n",
       "    <tr style=\"text-align: right;\">\n",
       "      <th></th>\n",
       "      <th>no.of_products</th>\n",
       "      <th>monetary</th>\n",
       "      <th>unitprice_mean</th>\n",
       "      <th>unitprice_std</th>\n",
       "      <th>no.of_transcation</th>\n",
       "      <th>tot_qn</th>\n",
       "      <th>recency</th>\n",
       "      <th>classify_customer</th>\n",
       "      <th>target</th>\n",
       "      <th>avg_qn_txn</th>\n",
       "      <th>revenue_per_qn</th>\n",
       "    </tr>\n",
       "  </thead>\n",
       "  <tbody>\n",
       "    <tr>\n",
       "      <th>3</th>\n",
       "      <td>24</td>\n",
       "      <td>521.18</td>\n",
       "      <td>4.080385</td>\n",
       "      <td>2.979813</td>\n",
       "      <td>3</td>\n",
       "      <td>186</td>\n",
       "      <td>9</td>\n",
       "      <td>Loyal and High Value</td>\n",
       "      <td>1</td>\n",
       "      <td>62.0</td>\n",
       "      <td>2.802043</td>\n",
       "    </tr>\n",
       "  </tbody>\n",
       "</table>\n",
       "</div>"
      ],
      "text/plain": [
       "   no.of_products  monetary  unitprice_mean  unitprice_std  no.of_transcation  \\\n",
       "3              24    521.18        4.080385       2.979813                  3   \n",
       "\n",
       "   tot_qn  recency     classify_customer  target  avg_qn_txn  revenue_per_qn  \n",
       "3     186        9  Loyal and High Value       1        62.0        2.802043  "
      ]
     },
     "execution_count": 69,
     "metadata": {},
     "output_type": "execute_result"
    }
   ],
   "source": [
    "ml_data[ml_data['target'] == 1].head(1)"
   ]
  },
  {
   "cell_type": "code",
   "execution_count": null,
   "metadata": {},
   "outputs": [],
   "source": [
    "result()"
   ]
  },
  {
   "cell_type": "code",
   "execution_count": 63,
   "metadata": {},
   "outputs": [],
   "source": [
    "from sklearn.metrics import roc_curve, auc, roc_auc_score"
   ]
  },
  {
   "cell_type": "code",
   "execution_count": 64,
   "metadata": {},
   "outputs": [],
   "source": [
    "y_scores = rf.predict_proba(x_test)[:, 1]\n",
    "\n",
    "fpr, tpr, thresholds = roc_curve(y_test, y_scores)\n",
    "\n",
    "roc_auc = auc(fpr, tpr)"
   ]
  },
  {
   "cell_type": "code",
   "execution_count": 66,
   "metadata": {},
   "outputs": [
    {
     "data": {
      "image/png": "[encoded data removed]",
      "text/plain": [
       "<Figure size 800x600 with 1 Axes>"
      ]
     },
     "metadata": {},
     "output_type": "display_data"
    }
   ],
   "source": [
    "plt.figure(figsize=(8,6))\n",
    "plt.plot(fpr, tpr, color='blue', lw=2, label=f'ROC curve (AUC = {roc_auc:.2f})')\n",
    "plt.plot([0, 1], [0, 1], color='grey', linestyle='--')  # random classifier line\n",
    "plt.xlim([0.0, 1.0])\n",
    "plt.ylim([0.0, 1.05])\n",
    "plt.xlabel('False Positive Rate')\n",
    "plt.ylabel('True Positive Rate')\n",
    "plt.title('Receiver Operating Characteristic (ROC) Curve')\n",
    "plt.legend(loc=\"lower right\")\n",
    "plt.grid()\n",
    "plt.show()\n"
   ]
  },
  {
   "cell_type": "code",
   "execution_count": null,
   "metadata": {},
   "outputs": [],
   "source": []
  }
 ],
 "metadata": {
  "colab": {
   "authorship_tag": "ABX9TyMqtYTY4NwtsvXB8vAJtK8q",
   "name": "",
   "version": ""
  },
  "kernelspec": {
   "display_name": "Python 3 (ipykernel)",
   "language": "python",
   "name": "python3"
  },
  "language_info": {
   "codemirror_mode": {
    "name": "ipython",
    "version": 3
   },
   "file_extension": ".py",
   "mimetype": "text/x-python",
   "name": "python",
   "nbconvert_exporter": "python",
   "pygments_lexer": "ipython3",
   "version": "3.12.7"
  }
 },
 "nbformat": 4,
 "nbformat_minor": 4
}
