{
 "cells": [
  {
   "cell_type": "markdown",
   "id": "92d133b4-3976-43d9-bfb2-2de12aaf8550",
   "metadata": {},
   "source": [
    "I dropped transactions where CustomerID was missing, since those couldn’t be linked to customer behavior.\n",
    "I also removed rows with missing descriptions or zero/negative prices, except for return cases.\n",
    "\n",
    "Many customers returned some items after purchasing multiple products.\n",
    "I matched purchases and returns based on CustomerID, InvoiceDate, and StockCode.\n",
    "Instead of removing all such entries, I calculated the net quantity for each product — for example, if someone bought 5 items and returned 3, I kept the remaining 2.\n",
    "If the return canceled out the full purchase (net quantity zero or negative), I removed it.\n",
    "\n",
    "Some entries like StockCode 'POST', 'M', or 'D' were not actual products — I kept them only when the description indicated they were real products (like 'Pencil'), and dropped them if they represented metadata or manual entries (like 'Manual', 'Adjustment').\n",
    "\n",
    "Converted InvoiceDate into separate fields like invoice_month and invoice_day_of_week to help analyze seasonal and weekly patterns.\n",
    "\n"
   ]
  },
  {
   "cell_type": "code",
   "execution_count": 1,
   "id": "be78efb0-92ca-4ade-91b6-5ed535dd0537",
   "metadata": {},
   "outputs": [],
   "source": [
    "import pandas as pd\n",
    "import numpy as np\n",
    "import matplotlib.pyplot as plt\n",
    "import seaborn as sns\n",
    "import warnings\n",
    "warnings.filterwarnings('ignore')"
   ]
  },
  {
   "cell_type": "code",
   "execution_count": 2,
   "id": "19499f82-fee4-486f-89cb-73e2a26c480e",
   "metadata": {},
   "outputs": [
    {
     "data": {
      "text/html": [
       "<div>\n",
       "<style scoped>\n",
       "    .dataframe tbody tr th:only-of-type {\n",
       "        vertical-align: middle;\n",
       "    }\n",
       "\n",
       "    .dataframe tbody tr th {\n",
       "        vertical-align: top;\n",
       "    }\n",
       "\n",
       "    .dataframe thead th {\n",
       "        text-align: right;\n",
       "    }\n",
       "</style>\n",
       "<table border=\"1\" class=\"dataframe\">\n",
       "  <thead>\n",
       "    <tr style=\"text-align: right;\">\n",
       "      <th></th>\n",
       "      <th>InvoiceNo</th>\n",
       "      <th>StockCode</th>\n",
       "      <th>Description</th>\n",
       "      <th>Quantity</th>\n",
       "      <th>InvoiceDate</th>\n",
       "      <th>UnitPrice</th>\n",
       "      <th>CustomerID</th>\n",
       "      <th>Country</th>\n",
       "    </tr>\n",
       "  </thead>\n",
       "  <tbody>\n",
       "    <tr>\n",
       "      <th>0</th>\n",
       "      <td>536365</td>\n",
       "      <td>85123A</td>\n",
       "      <td>WHITE HANGING HEART T-LIGHT HOLDER</td>\n",
       "      <td>6</td>\n",
       "      <td>2010-12-01 08:26:00</td>\n",
       "      <td>2.55</td>\n",
       "      <td>17850.0</td>\n",
       "      <td>United Kingdom</td>\n",
       "    </tr>\n",
       "    <tr>\n",
       "      <th>1</th>\n",
       "      <td>536365</td>\n",
       "      <td>71053</td>\n",
       "      <td>WHITE METAL LANTERN</td>\n",
       "      <td>6</td>\n",
       "      <td>2010-12-01 08:26:00</td>\n",
       "      <td>3.39</td>\n",
       "      <td>17850.0</td>\n",
       "      <td>United Kingdom</td>\n",
       "    </tr>\n",
       "    <tr>\n",
       "      <th>2</th>\n",
       "      <td>536365</td>\n",
       "      <td>84406B</td>\n",
       "      <td>CREAM CUPID HEARTS COAT HANGER</td>\n",
       "      <td>8</td>\n",
       "      <td>2010-12-01 08:26:00</td>\n",
       "      <td>2.75</td>\n",
       "      <td>17850.0</td>\n",
       "      <td>United Kingdom</td>\n",
       "    </tr>\n",
       "    <tr>\n",
       "      <th>3</th>\n",
       "      <td>536365</td>\n",
       "      <td>84029G</td>\n",
       "      <td>KNITTED UNION FLAG HOT WATER BOTTLE</td>\n",
       "      <td>6</td>\n",
       "      <td>2010-12-01 08:26:00</td>\n",
       "      <td>3.39</td>\n",
       "      <td>17850.0</td>\n",
       "      <td>United Kingdom</td>\n",
       "    </tr>\n",
       "    <tr>\n",
       "      <th>4</th>\n",
       "      <td>536365</td>\n",
       "      <td>84029E</td>\n",
       "      <td>RED WOOLLY HOTTIE WHITE HEART.</td>\n",
       "      <td>6</td>\n",
       "      <td>2010-12-01 08:26:00</td>\n",
       "      <td>3.39</td>\n",
       "      <td>17850.0</td>\n",
       "      <td>United Kingdom</td>\n",
       "    </tr>\n",
       "  </tbody>\n",
       "</table>\n",
       "</div>"
      ],
      "text/plain": [
       "  InvoiceNo StockCode                          Description  Quantity  \\\n",
       "0    536365    85123A   WHITE HANGING HEART T-LIGHT HOLDER         6   \n",
       "1    536365     71053                  WHITE METAL LANTERN         6   \n",
       "2    536365    84406B       CREAM CUPID HEARTS COAT HANGER         8   \n",
       "3    536365    84029G  KNITTED UNION FLAG HOT WATER BOTTLE         6   \n",
       "4    536365    84029E       RED WOOLLY HOTTIE WHITE HEART.         6   \n",
       "\n",
       "          InvoiceDate  UnitPrice  CustomerID         Country  \n",
       "0 2010-12-01 08:26:00       2.55     17850.0  United Kingdom  \n",
       "1 2010-12-01 08:26:00       3.39     17850.0  United Kingdom  \n",
       "2 2010-12-01 08:26:00       2.75     17850.0  United Kingdom  \n",
       "3 2010-12-01 08:26:00       3.39     17850.0  United Kingdom  \n",
       "4 2010-12-01 08:26:00       3.39     17850.0  United Kingdom  "
      ]
     },
     "execution_count": 2,
     "metadata": {},
     "output_type": "execute_result"
    }
   ],
   "source": [
    "df = pd.read_excel('Online Retail.xlsx')\n",
    "df.head()"
   ]
  },
  {
   "cell_type": "code",
   "execution_count": 3,
   "id": "349b0eae-d623-440a-8e47-195b1a6ffc5b",
   "metadata": {},
   "outputs": [
    {
     "name": "stdout",
     "output_type": "stream",
     "text": [
      "this data have 541909 entries and 8 columns\n"
     ]
    }
   ],
   "source": [
    "print(f'this data have {df.shape[0]} entries and {df.shape[1]} columns')"
   ]
  },
  {
   "cell_type": "code",
   "execution_count": 4,
   "id": "4a61d838-d7b9-4e48-bccc-2e4f2de67a97",
   "metadata": {},
   "outputs": [
    {
     "name": "stdout",
     "output_type": "stream",
     "text": [
      "<class 'pandas.core.frame.DataFrame'>\n",
      "RangeIndex: 541909 entries, 0 to 541908\n",
      "Data columns (total 8 columns):\n",
      " #   Column       Non-Null Count   Dtype         \n",
      "---  ------       --------------   -----         \n",
      " 0   InvoiceNo    541909 non-null  object        \n",
      " 1   StockCode    541909 non-null  object        \n",
      " 2   Description  540455 non-null  object        \n",
      " 3   Quantity     541909 non-null  int64         \n",
      " 4   InvoiceDate  541909 non-null  datetime64[ns]\n",
      " 5   UnitPrice    541909 non-null  float64       \n",
      " 6   CustomerID   406829 non-null  float64       \n",
      " 7   Country      541909 non-null  object        \n",
      "dtypes: datetime64[ns](1), float64(2), int64(1), object(4)\n",
      "memory usage: 33.1+ MB\n"
     ]
    }
   ],
   "source": [
    "df.info()"
   ]
  },
  {
   "cell_type": "markdown",
   "id": "d9429350-aa4f-4071-9d21-d9ab64139692",
   "metadata": {},
   "source": [
    "Every Columns has the Correct data types but there is some missing values."
   ]
  },
  {
   "cell_type": "code",
   "execution_count": 5,
   "id": "b72a8188-e64d-44f8-a6f0-bec24cecbf70",
   "metadata": {},
   "outputs": [
    {
     "data": {
      "text/plain": [
       "InvoiceNo           0\n",
       "StockCode           0\n",
       "Description      1454\n",
       "Quantity            0\n",
       "InvoiceDate         0\n",
       "UnitPrice           0\n",
       "CustomerID     135080\n",
       "Country             0\n",
       "dtype: int64"
      ]
     },
     "execution_count": 5,
     "metadata": {},
     "output_type": "execute_result"
    }
   ],
   "source": [
    "df.isna().sum()"
   ]
  },
  {
   "cell_type": "markdown",
   "id": "7bc99e11-facd-4957-8554-6333f68fa417",
   "metadata": {},
   "source": [
    "Description and CustomerID Contains NAN Values."
   ]
  },
  {
   "cell_type": "code",
   "execution_count": 6,
   "id": "026497bd-b5b1-4fc9-aa49-07094840a400",
   "metadata": {},
   "outputs": [
    {
     "data": {
      "text/plain": [
       "InvoiceNo      0\n",
       "StockCode      0\n",
       "Description    0\n",
       "Quantity       0\n",
       "InvoiceDate    0\n",
       "UnitPrice      0\n",
       "CustomerID     0\n",
       "Country        0\n",
       "dtype: int64"
      ]
     },
     "execution_count": 6,
     "metadata": {},
     "output_type": "execute_result"
    }
   ],
   "source": [
    "data = df.dropna()\n",
    "data.isna().sum()"
   ]
  },
  {
   "cell_type": "markdown",
   "id": "8f8419fd-ef19-48d2-a312-8ec961dbc3ce",
   "metadata": {},
   "source": [
    "Initially there is some NAN Values in customerId and description and i dropped because NAN contains in Customer id thats why"
   ]
  },
  {
   "cell_type": "code",
   "execution_count": 7,
   "id": "22a909b0-68c9-4dc3-9c60-53e95b666478",
   "metadata": {},
   "outputs": [
    {
     "data": {
      "text/plain": [
       "5225"
      ]
     },
     "execution_count": 7,
     "metadata": {},
     "output_type": "execute_result"
    }
   ],
   "source": [
    "data.duplicated().sum()"
   ]
  },
  {
   "cell_type": "code",
   "execution_count": 8,
   "id": "61714cdd-dd24-4fe3-84c7-e7d9b5d0c12f",
   "metadata": {},
   "outputs": [
    {
     "data": {
      "text/html": [
       "<div>\n",
       "<style scoped>\n",
       "    .dataframe tbody tr th:only-of-type {\n",
       "        vertical-align: middle;\n",
       "    }\n",
       "\n",
       "    .dataframe tbody tr th {\n",
       "        vertical-align: top;\n",
       "    }\n",
       "\n",
       "    .dataframe thead th {\n",
       "        text-align: right;\n",
       "    }\n",
       "</style>\n",
       "<table border=\"1\" class=\"dataframe\">\n",
       "  <thead>\n",
       "    <tr style=\"text-align: right;\">\n",
       "      <th></th>\n",
       "      <th>InvoiceNo</th>\n",
       "      <th>StockCode</th>\n",
       "      <th>Description</th>\n",
       "      <th>Quantity</th>\n",
       "      <th>InvoiceDate</th>\n",
       "      <th>UnitPrice</th>\n",
       "      <th>CustomerID</th>\n",
       "      <th>Country</th>\n",
       "    </tr>\n",
       "  </thead>\n",
       "  <tbody>\n",
       "    <tr>\n",
       "      <th>517</th>\n",
       "      <td>536409</td>\n",
       "      <td>21866</td>\n",
       "      <td>UNION JACK FLAG LUGGAGE TAG</td>\n",
       "      <td>1</td>\n",
       "      <td>2010-12-01 11:45:00</td>\n",
       "      <td>1.25</td>\n",
       "      <td>17908.0</td>\n",
       "      <td>United Kingdom</td>\n",
       "    </tr>\n",
       "    <tr>\n",
       "      <th>527</th>\n",
       "      <td>536409</td>\n",
       "      <td>22866</td>\n",
       "      <td>HAND WARMER SCOTTY DOG DESIGN</td>\n",
       "      <td>1</td>\n",
       "      <td>2010-12-01 11:45:00</td>\n",
       "      <td>2.10</td>\n",
       "      <td>17908.0</td>\n",
       "      <td>United Kingdom</td>\n",
       "    </tr>\n",
       "    <tr>\n",
       "      <th>537</th>\n",
       "      <td>536409</td>\n",
       "      <td>22900</td>\n",
       "      <td>SET 2 TEA TOWELS I LOVE LONDON</td>\n",
       "      <td>1</td>\n",
       "      <td>2010-12-01 11:45:00</td>\n",
       "      <td>2.95</td>\n",
       "      <td>17908.0</td>\n",
       "      <td>United Kingdom</td>\n",
       "    </tr>\n",
       "    <tr>\n",
       "      <th>539</th>\n",
       "      <td>536409</td>\n",
       "      <td>22111</td>\n",
       "      <td>SCOTTIE DOG HOT WATER BOTTLE</td>\n",
       "      <td>1</td>\n",
       "      <td>2010-12-01 11:45:00</td>\n",
       "      <td>4.95</td>\n",
       "      <td>17908.0</td>\n",
       "      <td>United Kingdom</td>\n",
       "    </tr>\n",
       "    <tr>\n",
       "      <th>555</th>\n",
       "      <td>536412</td>\n",
       "      <td>22327</td>\n",
       "      <td>ROUND SNACK BOXES SET OF 4 SKULLS</td>\n",
       "      <td>1</td>\n",
       "      <td>2010-12-01 11:49:00</td>\n",
       "      <td>2.95</td>\n",
       "      <td>17920.0</td>\n",
       "      <td>United Kingdom</td>\n",
       "    </tr>\n",
       "    <tr>\n",
       "      <th>...</th>\n",
       "      <td>...</td>\n",
       "      <td>...</td>\n",
       "      <td>...</td>\n",
       "      <td>...</td>\n",
       "      <td>...</td>\n",
       "      <td>...</td>\n",
       "      <td>...</td>\n",
       "      <td>...</td>\n",
       "    </tr>\n",
       "    <tr>\n",
       "      <th>541675</th>\n",
       "      <td>581538</td>\n",
       "      <td>22068</td>\n",
       "      <td>BLACK PIRATE TREASURE CHEST</td>\n",
       "      <td>1</td>\n",
       "      <td>2011-12-09 11:34:00</td>\n",
       "      <td>0.39</td>\n",
       "      <td>14446.0</td>\n",
       "      <td>United Kingdom</td>\n",
       "    </tr>\n",
       "    <tr>\n",
       "      <th>541689</th>\n",
       "      <td>581538</td>\n",
       "      <td>23318</td>\n",
       "      <td>BOX OF 6 MINI VINTAGE CRACKERS</td>\n",
       "      <td>1</td>\n",
       "      <td>2011-12-09 11:34:00</td>\n",
       "      <td>2.49</td>\n",
       "      <td>14446.0</td>\n",
       "      <td>United Kingdom</td>\n",
       "    </tr>\n",
       "    <tr>\n",
       "      <th>541692</th>\n",
       "      <td>581538</td>\n",
       "      <td>22992</td>\n",
       "      <td>REVOLVER WOODEN RULER</td>\n",
       "      <td>1</td>\n",
       "      <td>2011-12-09 11:34:00</td>\n",
       "      <td>1.95</td>\n",
       "      <td>14446.0</td>\n",
       "      <td>United Kingdom</td>\n",
       "    </tr>\n",
       "    <tr>\n",
       "      <th>541699</th>\n",
       "      <td>581538</td>\n",
       "      <td>22694</td>\n",
       "      <td>WICKER STAR</td>\n",
       "      <td>1</td>\n",
       "      <td>2011-12-09 11:34:00</td>\n",
       "      <td>2.10</td>\n",
       "      <td>14446.0</td>\n",
       "      <td>United Kingdom</td>\n",
       "    </tr>\n",
       "    <tr>\n",
       "      <th>541701</th>\n",
       "      <td>581538</td>\n",
       "      <td>23343</td>\n",
       "      <td>JUMBO BAG VINTAGE CHRISTMAS</td>\n",
       "      <td>1</td>\n",
       "      <td>2011-12-09 11:34:00</td>\n",
       "      <td>2.08</td>\n",
       "      <td>14446.0</td>\n",
       "      <td>United Kingdom</td>\n",
       "    </tr>\n",
       "  </tbody>\n",
       "</table>\n",
       "<p>5225 rows × 8 columns</p>\n",
       "</div>"
      ],
      "text/plain": [
       "       InvoiceNo StockCode                        Description  Quantity  \\\n",
       "517       536409     21866        UNION JACK FLAG LUGGAGE TAG         1   \n",
       "527       536409     22866      HAND WARMER SCOTTY DOG DESIGN         1   \n",
       "537       536409     22900    SET 2 TEA TOWELS I LOVE LONDON          1   \n",
       "539       536409     22111       SCOTTIE DOG HOT WATER BOTTLE         1   \n",
       "555       536412     22327  ROUND SNACK BOXES SET OF 4 SKULLS         1   \n",
       "...          ...       ...                                ...       ...   \n",
       "541675    581538     22068        BLACK PIRATE TREASURE CHEST         1   \n",
       "541689    581538     23318     BOX OF 6 MINI VINTAGE CRACKERS         1   \n",
       "541692    581538     22992             REVOLVER WOODEN RULER          1   \n",
       "541699    581538     22694                       WICKER STAR          1   \n",
       "541701    581538     23343       JUMBO BAG VINTAGE CHRISTMAS          1   \n",
       "\n",
       "               InvoiceDate  UnitPrice  CustomerID         Country  \n",
       "517    2010-12-01 11:45:00       1.25     17908.0  United Kingdom  \n",
       "527    2010-12-01 11:45:00       2.10     17908.0  United Kingdom  \n",
       "537    2010-12-01 11:45:00       2.95     17908.0  United Kingdom  \n",
       "539    2010-12-01 11:45:00       4.95     17908.0  United Kingdom  \n",
       "555    2010-12-01 11:49:00       2.95     17920.0  United Kingdom  \n",
       "...                    ...        ...         ...             ...  \n",
       "541675 2011-12-09 11:34:00       0.39     14446.0  United Kingdom  \n",
       "541689 2011-12-09 11:34:00       2.49     14446.0  United Kingdom  \n",
       "541692 2011-12-09 11:34:00       1.95     14446.0  United Kingdom  \n",
       "541699 2011-12-09 11:34:00       2.10     14446.0  United Kingdom  \n",
       "541701 2011-12-09 11:34:00       2.08     14446.0  United Kingdom  \n",
       "\n",
       "[5225 rows x 8 columns]"
      ]
     },
     "execution_count": 8,
     "metadata": {},
     "output_type": "execute_result"
    }
   ],
   "source": [
    "data[data.duplicated()]"
   ]
  },
  {
   "cell_type": "markdown",
   "id": "53ee2d54-cb7d-4d5a-82e0-e3a1d5da3c36",
   "metadata": {},
   "source": [
    "I found some duplicates but that is InvoiceNo so no problem i leave that."
   ]
  },
  {
   "cell_type": "code",
   "execution_count": 9,
   "id": "b30726ff-1b2d-493d-8659-5659d3fc2ecd",
   "metadata": {},
   "outputs": [],
   "source": [
    "data['invoice_mnth'] = data['InvoiceDate'].dt.month\n",
    "data['invoicedayweek'] = data['InvoiceDate'].dt.day_name()"
   ]
  },
  {
   "cell_type": "code",
   "execution_count": 10,
   "id": "b6728526-b24c-46e1-a9fe-01296655a8ea",
   "metadata": {},
   "outputs": [
    {
     "data": {
      "text/html": [
       "<div>\n",
       "<style scoped>\n",
       "    .dataframe tbody tr th:only-of-type {\n",
       "        vertical-align: middle;\n",
       "    }\n",
       "\n",
       "    .dataframe tbody tr th {\n",
       "        vertical-align: top;\n",
       "    }\n",
       "\n",
       "    .dataframe thead th {\n",
       "        text-align: right;\n",
       "    }\n",
       "</style>\n",
       "<table border=\"1\" class=\"dataframe\">\n",
       "  <thead>\n",
       "    <tr style=\"text-align: right;\">\n",
       "      <th></th>\n",
       "      <th>InvoiceNo</th>\n",
       "      <th>StockCode</th>\n",
       "      <th>Description</th>\n",
       "      <th>Quantity</th>\n",
       "      <th>InvoiceDate</th>\n",
       "      <th>UnitPrice</th>\n",
       "      <th>CustomerID</th>\n",
       "      <th>Country</th>\n",
       "      <th>invoice_mnth</th>\n",
       "      <th>invoicedayweek</th>\n",
       "    </tr>\n",
       "  </thead>\n",
       "  <tbody>\n",
       "    <tr>\n",
       "      <th>0</th>\n",
       "      <td>536365</td>\n",
       "      <td>85123A</td>\n",
       "      <td>WHITE HANGING HEART T-LIGHT HOLDER</td>\n",
       "      <td>6</td>\n",
       "      <td>2010-12-01 08:26:00</td>\n",
       "      <td>2.55</td>\n",
       "      <td>17850.0</td>\n",
       "      <td>United Kingdom</td>\n",
       "      <td>12</td>\n",
       "      <td>Wednesday</td>\n",
       "    </tr>\n",
       "    <tr>\n",
       "      <th>1</th>\n",
       "      <td>536365</td>\n",
       "      <td>71053</td>\n",
       "      <td>WHITE METAL LANTERN</td>\n",
       "      <td>6</td>\n",
       "      <td>2010-12-01 08:26:00</td>\n",
       "      <td>3.39</td>\n",
       "      <td>17850.0</td>\n",
       "      <td>United Kingdom</td>\n",
       "      <td>12</td>\n",
       "      <td>Wednesday</td>\n",
       "    </tr>\n",
       "    <tr>\n",
       "      <th>2</th>\n",
       "      <td>536365</td>\n",
       "      <td>84406B</td>\n",
       "      <td>CREAM CUPID HEARTS COAT HANGER</td>\n",
       "      <td>8</td>\n",
       "      <td>2010-12-01 08:26:00</td>\n",
       "      <td>2.75</td>\n",
       "      <td>17850.0</td>\n",
       "      <td>United Kingdom</td>\n",
       "      <td>12</td>\n",
       "      <td>Wednesday</td>\n",
       "    </tr>\n",
       "    <tr>\n",
       "      <th>3</th>\n",
       "      <td>536365</td>\n",
       "      <td>84029G</td>\n",
       "      <td>KNITTED UNION FLAG HOT WATER BOTTLE</td>\n",
       "      <td>6</td>\n",
       "      <td>2010-12-01 08:26:00</td>\n",
       "      <td>3.39</td>\n",
       "      <td>17850.0</td>\n",
       "      <td>United Kingdom</td>\n",
       "      <td>12</td>\n",
       "      <td>Wednesday</td>\n",
       "    </tr>\n",
       "    <tr>\n",
       "      <th>4</th>\n",
       "      <td>536365</td>\n",
       "      <td>84029E</td>\n",
       "      <td>RED WOOLLY HOTTIE WHITE HEART.</td>\n",
       "      <td>6</td>\n",
       "      <td>2010-12-01 08:26:00</td>\n",
       "      <td>3.39</td>\n",
       "      <td>17850.0</td>\n",
       "      <td>United Kingdom</td>\n",
       "      <td>12</td>\n",
       "      <td>Wednesday</td>\n",
       "    </tr>\n",
       "  </tbody>\n",
       "</table>\n",
       "</div>"
      ],
      "text/plain": [
       "  InvoiceNo StockCode                          Description  Quantity  \\\n",
       "0    536365    85123A   WHITE HANGING HEART T-LIGHT HOLDER         6   \n",
       "1    536365     71053                  WHITE METAL LANTERN         6   \n",
       "2    536365    84406B       CREAM CUPID HEARTS COAT HANGER         8   \n",
       "3    536365    84029G  KNITTED UNION FLAG HOT WATER BOTTLE         6   \n",
       "4    536365    84029E       RED WOOLLY HOTTIE WHITE HEART.         6   \n",
       "\n",
       "          InvoiceDate  UnitPrice  CustomerID         Country  invoice_mnth  \\\n",
       "0 2010-12-01 08:26:00       2.55     17850.0  United Kingdom            12   \n",
       "1 2010-12-01 08:26:00       3.39     17850.0  United Kingdom            12   \n",
       "2 2010-12-01 08:26:00       2.75     17850.0  United Kingdom            12   \n",
       "3 2010-12-01 08:26:00       3.39     17850.0  United Kingdom            12   \n",
       "4 2010-12-01 08:26:00       3.39     17850.0  United Kingdom            12   \n",
       "\n",
       "  invoicedayweek  \n",
       "0      Wednesday  \n",
       "1      Wednesday  \n",
       "2      Wednesday  \n",
       "3      Wednesday  \n",
       "4      Wednesday  "
      ]
     },
     "execution_count": 10,
     "metadata": {},
     "output_type": "execute_result"
    }
   ],
   "source": [
    "data.head()"
   ]
  },
  {
   "cell_type": "markdown",
   "id": "7ed8bb0f-3905-4b9c-aa06-598dfde700c0",
   "metadata": {},
   "source": [
    "I created new columns invoice_month and inviceweek for further analysis."
   ]
  },
  {
   "cell_type": "code",
   "execution_count": 11,
   "id": "09c6c50b-0860-46c1-87f8-2cbd2e604d56",
   "metadata": {},
   "outputs": [
    {
     "name": "stdout",
     "output_type": "stream",
     "text": [
      "['Quantity', 'UnitPrice']\n"
     ]
    }
   ],
   "source": [
    "num = data.select_dtypes(include = ['float64','int64'])\n",
    "num.drop(columns = 'CustomerID',axis = 1, inplace = True)\n",
    "chk_col = num.columns.tolist()\n",
    "print(chk_col)"
   ]
  },
  {
   "cell_type": "code",
   "execution_count": 12,
   "id": "d875914d-ffa9-4b85-a80d-bd57cfebe47e",
   "metadata": {},
   "outputs": [],
   "source": [
    "\n",
    "for col in chk_col:\n",
    "    has = (data[col]<0).any()\n",
    "    if has:\n",
    "        for i in data.index:\n",
    "            if data.loc[i,col] < 0:\n",
    "                data.loc[i,col] = data.loc[i,col]*-1"
   ]
  },
  {
   "cell_type": "code",
   "execution_count": 13,
   "id": "7839cbd6-e295-4036-a4ee-ee90b8401531",
   "metadata": {},
   "outputs": [
    {
     "name": "stdout",
     "output_type": "stream",
     "text": [
      "there is no some neg value in Quantity\n",
      "there is no some neg value in UnitPrice\n"
     ]
    }
   ],
   "source": [
    "for col in chk_col:\n",
    "    has = (data[col]<0).any()\n",
    "    if has:\n",
    "        print(f'there is some neg value in {col}')\n",
    "    else:\n",
    "        print(f'there is no some neg value in {col}')"
   ]
  },
  {
   "cell_type": "code",
   "execution_count": 14,
   "id": "d89b20cf-7d33-4429-9147-7ad8b4f244ea",
   "metadata": {},
   "outputs": [
    {
     "data": {
      "text/plain": [
       "Index(['InvoiceNo', 'StockCode', 'Description', 'Quantity', 'InvoiceDate',\n",
       "       'UnitPrice', 'CustomerID', 'Country', 'invoice_mnth', 'invoicedayweek'],\n",
       "      dtype='object')"
      ]
     },
     "execution_count": 14,
     "metadata": {},
     "output_type": "execute_result"
    }
   ],
   "source": [
    "data.columns"
   ]
  },
  {
   "cell_type": "code",
   "execution_count": 15,
   "id": "b9314699-6ac3-4ec5-bc16-f965f41c26f5",
   "metadata": {},
   "outputs": [
    {
     "name": "stdout",
     "output_type": "stream",
     "text": [
      "number of unique values 22190 in InvoiceNo\n",
      "------------------------------\n",
      "number of unique values 3684 in StockCode\n",
      "------------------------------\n",
      "number of unique values 3896 in Description\n",
      "------------------------------\n",
      "number of unique values 310 in Quantity\n",
      "------------------------------\n",
      "number of unique values 20460 in InvoiceDate\n",
      "------------------------------\n",
      "number of unique values 620 in UnitPrice\n",
      "------------------------------\n",
      "number of unique values 4372 in CustomerID\n",
      "------------------------------\n",
      "number of unique values 37 in Country\n",
      "------------------------------\n",
      "number of unique values 12 in invoice_mnth\n",
      "------------------------------\n",
      "number of unique values 6 in invoicedayweek\n",
      "------------------------------\n"
     ]
    }
   ],
   "source": [
    "for col in data.columns:\n",
    "  s = data[col].nunique()\n",
    "  print(f'number of unique values {s} in {col}')\n",
    "  print(\"-\"*30)"
   ]
  },
  {
   "cell_type": "code",
   "execution_count": 16,
   "id": "6f1aa5ab-6d1e-44ed-b63e-ba75e917b753",
   "metadata": {},
   "outputs": [],
   "source": [
    "data['Total_revenue'] = data['Quantity']*data['UnitPrice']"
   ]
  },
  {
   "cell_type": "code",
   "execution_count": 17,
   "id": "6f604a6d-498a-473e-bfe2-1d79d9c29cc1",
   "metadata": {},
   "outputs": [
    {
     "name": "stdout",
     "output_type": "stream",
     "text": [
      "<class 'pandas.core.frame.DataFrame'>\n",
      "Index: 406829 entries, 0 to 541908\n",
      "Data columns (total 11 columns):\n",
      " #   Column          Non-Null Count   Dtype         \n",
      "---  ------          --------------   -----         \n",
      " 0   InvoiceNo       406829 non-null  object        \n",
      " 1   StockCode       406829 non-null  object        \n",
      " 2   Description     406829 non-null  object        \n",
      " 3   Quantity        406829 non-null  int64         \n",
      " 4   InvoiceDate     406829 non-null  datetime64[ns]\n",
      " 5   UnitPrice       406829 non-null  float64       \n",
      " 6   CustomerID      406829 non-null  float64       \n",
      " 7   Country         406829 non-null  object        \n",
      " 8   invoice_mnth    406829 non-null  int32         \n",
      " 9   invoicedayweek  406829 non-null  object        \n",
      " 10  Total_revenue   406829 non-null  float64       \n",
      "dtypes: datetime64[ns](1), float64(3), int32(1), int64(1), object(5)\n",
      "memory usage: 51.8+ MB\n"
     ]
    }
   ],
   "source": [
    "data.info()"
   ]
  },
  {
   "cell_type": "code",
   "execution_count": 18,
   "id": "1eaa6318-13cb-47ec-ab9d-67bc06eeebdd",
   "metadata": {},
   "outputs": [
    {
     "data": {
      "text/plain": [
       "False"
      ]
     },
     "execution_count": 18,
     "metadata": {},
     "output_type": "execute_result"
    }
   ],
   "source": [
    "(data['Total_revenue'] < 0).any()"
   ]
  },
  {
   "cell_type": "code",
   "execution_count": 19,
   "id": "1a25fcb5-e19b-47a4-b7f2-c2dd0fca0cda",
   "metadata": {},
   "outputs": [],
   "source": [
    "# Grouping the Quantity Column.\n",
    "\n",
    "for y in data.index:\n",
    "  if data.loc[y, 'Quantity'] <= 10:\n",
    "    data.loc[y, 'grp_qnty'] =  '1-10'\n",
    "  elif data.loc[y, 'Quantity'] <= 50:\n",
    "    data.loc[y, 'grp_qnty'] =  '11-50'\n",
    "  elif data.loc[y, 'Quantity'] <= 100:\n",
    "    data.loc[y, 'grp_qnty'] =  '51-100'\n",
    "  elif data.loc[y, 'Quantity'] <= 200:\n",
    "    data.loc[y, 'grp_qnty'] =  '101-200'\n",
    "  elif data.loc[y, 'Quantity'] <= 500:\n",
    "    data.loc[y, 'grp_qnty'] =  '201-500'\n",
    "  elif data.loc[y, 'Quantity'] <= 1000:\n",
    "    data.loc[y, 'grp_qnty'] =  '501-1000'\n",
    "  else:\n",
    "    data.loc[y, 'grp_qnty'] =  '1000+'"
   ]
  },
  {
   "cell_type": "code",
   "execution_count": 20,
   "id": "992b88b4-ac21-4513-a068-3f13d0c22aae",
   "metadata": {},
   "outputs": [],
   "source": [
    "for t in data.index:\n",
    "  if data.loc[t, 'Total_revenue'] <= 1000:\n",
    "    data.loc[t, 'grp_rev'] =  '1-1000'\n",
    "  elif data.loc[t, 'Total_revenue'] <= 5000:\n",
    "    data.loc[t, 'grp_rev'] =  '1001-5000'\n",
    "  elif data.loc[t, 'Total_revenue'] <= 10000:\n",
    "    data.loc[t, 'grp_rev'] =  '5001-10000'\n",
    "  elif data.loc[t, 'Total_revenue'] <= 20000:\n",
    "    data.loc[t, 'grp_rev'] =  '10001-20000'\n",
    "  elif data.loc[t, 'Total_revenue'] <= 50000:\n",
    "    data.loc[t, 'grp_rev'] =  '20001-50000'\n",
    "  elif data.loc[t, 'Total_revenue'] <= 100000:\n",
    "    data.loc[t, 'grp_rev'] =  '50001-100000'\n",
    "  else:\n",
    "    data.loc[t, 'grp_rev'] =  '100000+'"
   ]
  },
  {
   "cell_type": "markdown",
   "id": "fec866cf-e731-4fa7-bc5f-ad8bbd061877",
   "metadata": {},
   "source": [
    "above columns are useful for further analysis"
   ]
  },
  {
   "cell_type": "markdown",
   "id": "8793e856-aeb9-4381-8b05-3797fdb84880",
   "metadata": {},
   "source": [
    "The above statistics are not realistic may we shrinked lot of data this is not a right option we have try other ways"
   ]
  },
  {
   "cell_type": "markdown",
   "id": "5b69e7b3-44c1-45b4-8385-dd8906e6089d",
   "metadata": {},
   "source": [
    "Before that we have to remove some of the stock codes like post,M etc."
   ]
  },
  {
   "cell_type": "code",
   "execution_count": 21,
   "id": "87b00206-aadf-4f1f-bd63-0e05a3e305e4",
   "metadata": {},
   "outputs": [
    {
     "data": {
      "text/plain": [
       "['POST', 'D', 'C2', 'M', 'BANK CHARGES', 'PADS', 'DOT', 'CRUK']"
      ]
     },
     "execution_count": 21,
     "metadata": {},
     "output_type": "execute_result"
    }
   ],
   "source": [
    "specific_stockcode = data[data['StockCode'].str.match(r'[A-Za-z]+', na = False)]\n",
    "unique_code = specific_stockcode['StockCode'].unique().tolist()\n",
    "unique_code"
   ]
  },
  {
   "cell_type": "code",
   "execution_count": 22,
   "id": "aa8c9f98-649e-412c-9a8a-1b06552f3106",
   "metadata": {},
   "outputs": [],
   "source": [
    "cldata = data.copy()"
   ]
  },
  {
   "cell_type": "code",
   "execution_count": 23,
   "id": "a31a69fe-72e3-4fce-bc19-1ffeb936f587",
   "metadata": {},
   "outputs": [],
   "source": [
    "for code in unique_code:\n",
    "    filt = data[data['StockCode'] == code]\n",
    "    sc = filt['StockCode'].unique()[0]\n",
    "    dc = filt['Description'].unique()[0]\n",
    "    cldata = cldata[~((cldata['StockCode'] == sc) & (cldata['Description'] == dc))]"
   ]
  },
  {
   "cell_type": "code",
   "execution_count": 24,
   "id": "f14e01f8-a932-4d9e-a319-deb4ef44ec95",
   "metadata": {},
   "outputs": [
    {
     "data": {
      "text/html": [
       "<div>\n",
       "<style scoped>\n",
       "    .dataframe tbody tr th:only-of-type {\n",
       "        vertical-align: middle;\n",
       "    }\n",
       "\n",
       "    .dataframe tbody tr th {\n",
       "        vertical-align: top;\n",
       "    }\n",
       "\n",
       "    .dataframe thead th {\n",
       "        text-align: right;\n",
       "    }\n",
       "</style>\n",
       "<table border=\"1\" class=\"dataframe\">\n",
       "  <thead>\n",
       "    <tr style=\"text-align: right;\">\n",
       "      <th></th>\n",
       "      <th>InvoiceNo</th>\n",
       "      <th>StockCode</th>\n",
       "      <th>Description</th>\n",
       "      <th>Quantity</th>\n",
       "      <th>InvoiceDate</th>\n",
       "      <th>UnitPrice</th>\n",
       "      <th>CustomerID</th>\n",
       "      <th>Country</th>\n",
       "      <th>invoice_mnth</th>\n",
       "      <th>invoicedayweek</th>\n",
       "      <th>Total_revenue</th>\n",
       "      <th>grp_qnty</th>\n",
       "      <th>grp_rev</th>\n",
       "    </tr>\n",
       "  </thead>\n",
       "  <tbody>\n",
       "  </tbody>\n",
       "</table>\n",
       "</div>"
      ],
      "text/plain": [
       "Empty DataFrame\n",
       "Columns: [InvoiceNo, StockCode, Description, Quantity, InvoiceDate, UnitPrice, CustomerID, Country, invoice_mnth, invoicedayweek, Total_revenue, grp_qnty, grp_rev]\n",
       "Index: []"
      ]
     },
     "execution_count": 24,
     "metadata": {},
     "output_type": "execute_result"
    }
   ],
   "source": [
    "cldata[cldata['StockCode'].str.match(r'[A-Za-z]+', na = False)]"
   ]
  },
  {
   "cell_type": "code",
   "execution_count": 25,
   "id": "1bef44a7-4eda-4d9e-b601-7f6abe63cd9a",
   "metadata": {},
   "outputs": [],
   "source": [
    "cldata['InvoiceNo_Alpha'] = cldata['InvoiceNo'].str.extract(r'^([A-Za-z]+)', expand=False)"
   ]
  },
  {
   "cell_type": "code",
   "execution_count": 26,
   "id": "be8d85b2-dc7d-4779-9f4c-aff6b8dec69b",
   "metadata": {},
   "outputs": [
    {
     "data": {
      "text/plain": [
       "array(['C'], dtype=object)"
      ]
     },
     "execution_count": 26,
     "metadata": {},
     "output_type": "execute_result"
    }
   ],
   "source": [
    "cldata[cldata['InvoiceNo'].str.match(r'^([A-Za-z]+)', na = False)]['InvoiceNo_Alpha'].unique()"
   ]
  },
  {
   "cell_type": "code",
   "execution_count": null,
   "id": "3dc33101-fd49-48b5-8b4b-3d7706d9d341",
   "metadata": {},
   "outputs": [],
   "source": [
    "for i in cldata.index:\n",
    "    if cldata.loc[i, 'InvoiceNo_Alpha'] == 'C':\n",
    "        cldata.loc[i, 'InvoiceIdentity'] = 'Cancellation/Return'\n",
    "    else:\n",
    "        cldata.loc[i, 'InvoiceIdentity'] = 'Normal_Product'"
   ]
  },
  {
   "cell_type": "code",
   "execution_count": null,
   "id": "b5737112-c5e8-47f6-9c72-2b6af7fe7346",
   "metadata": {},
   "outputs": [],
   "source": [
    "cldata['InvoiceIdentity'].unique()"
   ]
  },
  {
   "cell_type": "code",
   "execution_count": null,
   "id": "eaceeb1c-5f8a-4b3a-beeb-95809b767ad0",
   "metadata": {},
   "outputs": [],
   "source": [
    "pd.set_option('display.max_rows', None)\n",
    "pd.set_option('display.max_columns', None)"
   ]
  },
  {
   "cell_type": "code",
   "execution_count": null,
   "id": "52b43823-4ab8-4854-9982-dcd84fd5b555",
   "metadata": {},
   "outputs": [],
   "source": [
    "purchase = cldata[cldata['InvoiceIdentity'] == 'Normal_Product']\n",
    "cancelled = cldata[~(cldata['InvoiceIdentity'] == 'Normal_Product')]"
   ]
  },
  {
   "cell_type": "code",
   "execution_count": null,
   "id": "7f7d014a-2ccb-40db-a0dc-2beea1cd583e",
   "metadata": {},
   "outputs": [],
   "source": [
    "match_returns = pd.merge(purchase, cancelled, on = ['CustomerID', 'StockCode'], suffixes = ('_p', '_c'))"
   ]
  },
  {
   "cell_type": "code",
   "execution_count": null,
   "id": "461f62d9-3db2-4ef2-bd20-de824d1deaa5",
   "metadata": {},
   "outputs": [],
   "source": [
    "cldata.loc[cldata['InvoiceIdentity'] != 'Normal_Product', 'Quantity'] = -cldata.loc[cldata['InvoiceIdentity'] != 'Normal_Product', 'Quantity'].abs()"
   ]
  },
  {
   "cell_type": "code",
   "execution_count": null,
   "id": "cadb4d4e-337e-41e9-a05f-55e3c8e60df9",
   "metadata": {},
   "outputs": [],
   "source": [
    "returns = cldata[cldata['InvoiceIdentity'] != 'Normal_Product']\n",
    "purchase = cldata[cldata['InvoiceIdentity'] == 'Normal_Product']"
   ]
  },
  {
   "cell_type": "code",
   "execution_count": null,
   "id": "5c306890-0aa6-4cec-8e58-fcf0cf39c2b2",
   "metadata": {},
   "outputs": [],
   "source": [
    "returns['Quantity'] = returns['Quantity'].abs()"
   ]
  },
  {
   "cell_type": "code",
   "execution_count": null,
   "id": "d32cfc78-0296-4ae0-bdc9-289e61ea92ae",
   "metadata": {},
   "outputs": [],
   "source": [
    "merge = pd.merge(returns, purchase, on = ['StockCode', 'CustomerID'], suffixes=('_return', '_purchase'))"
   ]
  },
  {
   "cell_type": "code",
   "execution_count": null,
   "id": "7929db59-ab8f-4d4e-9aa7-ef8486b543f8",
   "metadata": {},
   "outputs": [],
   "source": [
    "valid_return = merge[merge['InvoiceDate_return'] > merge['InvoiceDate_purchase']]"
   ]
  },
  {
   "cell_type": "code",
   "execution_count": null,
   "id": "b2a7b9ce-9e8f-4446-9689-eab118084c95",
   "metadata": {},
   "outputs": [],
   "source": [
    "merge['day_diff'] = (merge['InvoiceDate_return'] - merge['InvoiceDate_purchase']).dt.days"
   ]
  },
  {
   "cell_type": "code",
   "execution_count": null,
   "id": "0eb7579a-3fcb-4b86-be33-a86db6c716eb",
   "metadata": {},
   "outputs": [],
   "source": [
    "merge_filt = merge[(merge['day_diff'] >= 0) & (merge['day_diff'] <= 20) ]"
   ]
  },
  {
   "cell_type": "code",
   "execution_count": null,
   "id": "d8d014e0-c3ab-4dd4-bf79-42ce82f50eb4",
   "metadata": {},
   "outputs": [],
   "source": [
    "merge_filt['Adj_qnt'] =(merge_filt['Quantity_purchase'] - merge_filt['Quantity_return'])"
   ]
  },
  {
   "cell_type": "code",
   "execution_count": null,
   "id": "fead6ac3-aa8d-4253-b74b-a768364cf67e",
   "metadata": {},
   "outputs": [],
   "source": [
    "adjusted = merge_filt[merge_filt['Adj_qnt'] > 0]\n",
    "full_ret =  merge_filt[merge_filt['Adj_qnt'] <= 0]"
   ]
  },
  {
   "cell_type": "code",
   "execution_count": null,
   "id": "2df9e9b1-a572-42a4-a875-e3113fb8105a",
   "metadata": {},
   "outputs": [],
   "source": [
    "full_ret.head()"
   ]
  },
  {
   "cell_type": "code",
   "execution_count": null,
   "id": "9510b6d6-7706-423b-b382-96c9bab97c3a",
   "metadata": {},
   "outputs": [],
   "source": [
    "adjusted['Quantity_purchase'] = adjusted['Adj_qnt']"
   ]
  },
  {
   "cell_type": "code",
   "execution_count": null,
   "id": "19e049dc-51a3-440c-b5bc-590f9abddfa8",
   "metadata": {},
   "outputs": [],
   "source": [
    "to_remove = full_ret[['StockCode', 'CustomerID', 'InvoiceDate_purchase']]"
   ]
  },
  {
   "cell_type": "code",
   "execution_count": null,
   "id": "970979d2-dbbc-4578-8d64-a3cb68479524",
   "metadata": {},
   "outputs": [],
   "source": [
    "cleaned = purchase.merge(to_remove, left_on = ['StockCode', 'CustomerID', 'InvoiceDate'], right_on = ['StockCode', 'CustomerID', 'InvoiceDate_purchase'], how = 'left', indicator = True).query('_merge ==\"left_only\"').drop(columns=['InvoiceDate_purchase', '_merge'])"
   ]
  },
  {
   "cell_type": "code",
   "execution_count": null,
   "id": "5dd58aeb-235c-4076-b9e7-66b37cfd2222",
   "metadata": {},
   "outputs": [],
   "source": [
    "adjusted.columns"
   ]
  },
  {
   "cell_type": "code",
   "execution_count": null,
   "id": "24e20349-bc85-4f46-b546-4aef73d538a2",
   "metadata": {},
   "outputs": [],
   "source": [
    "to_remove2 = adjusted[['StockCode','CustomerID','InvoiceDate_purchase']].rename(columns = {'InvoiceDate_purchase':'InvoiceDate'})"
   ]
  },
  {
   "cell_type": "code",
   "execution_count": null,
   "id": "73e40743-8b47-4095-977c-ad5a9d2f2aa2",
   "metadata": {},
   "outputs": [],
   "source": [
    "cleaned1 = pd.merge(cleaned, to_remove2, on = ['StockCode', 'CustomerID', 'InvoiceDate'], how = 'left', indicator = True).query('_merge == \"left_only\"').drop(columns=['_merge'])"
   ]
  },
  {
   "cell_type": "code",
   "execution_count": null,
   "id": "7a01476c-35a1-4473-a877-672030561559",
   "metadata": {},
   "outputs": [],
   "source": [
    "cleaned1.head()"
   ]
  },
  {
   "cell_type": "code",
   "execution_count": null,
   "id": "b39e1767-3510-443b-8674-428c222db45a",
   "metadata": {},
   "outputs": [],
   "source": [
    "cleaned1.columns"
   ]
  },
  {
   "cell_type": "code",
   "execution_count": null,
   "id": "b8995057-8b16-40b7-91e2-405bdf533891",
   "metadata": {},
   "outputs": [],
   "source": [
    "adjusted.columns"
   ]
  },
  {
   "cell_type": "code",
   "execution_count": null,
   "id": "c3bf4063-d5ea-453b-9e77-d7bd381c0503",
   "metadata": {},
   "outputs": [],
   "source": [
    "adjusted.rename(columns = {'InvoiceNo_purchase' : 'InvoiceNo', 'Description_purchase' : 'Description', 'Quantity_purchase' : 'qnt',\n",
    "       'InvoiceDate_purchase' : 'InvoiceDate', 'UnitPrice_purchase' : 'UnitPrice', 'Country_purchase' : 'Country',\n",
    "       'invoice_mnth_purchase' : 'invoice_mnth', 'invoicedayweek_purchase' : 'invoicedayweek',\n",
    "       'Total_revenue_purchase' : 'Total_revenue', 'grp_qnty_purchase' : 'grp_qnty', 'grp_rev_purchase' : 'grp_rev',\n",
    "       'InvoiceNo_Alpha_purchase' : 'InvoiceNo_Alpha', 'InvoiceIdentity_purchase' : 'InvoiceIdentity', \n",
    "       'Adj_qnt' : 'Quantity'}, inplace = True)"
   ]
  },
  {
   "cell_type": "code",
   "execution_count": null,
   "id": "6826dd1d-3def-466f-8e1b-78d3126f2b16",
   "metadata": {},
   "outputs": [],
   "source": [
    "cleaned1.columns"
   ]
  },
  {
   "cell_type": "code",
   "execution_count": null,
   "id": "1e689d0d-0988-4e20-aa11-53d1afb3020d",
   "metadata": {},
   "outputs": [],
   "source": [
    "ad_filt = adjusted[['InvoiceNo', 'StockCode', 'Description', 'Quantity', 'InvoiceDate', 'UnitPrice','CustomerID',\n",
    "       'Country', 'invoice_mnth', 'invoicedayweek', 'Total_revenue',\n",
    "       'grp_qnty', 'grp_rev', 'InvoiceNo_Alpha', 'InvoiceIdentity',]]"
   ]
  },
  {
   "cell_type": "code",
   "execution_count": null,
   "id": "20f10576-64a1-4483-a8b8-0005db527a12",
   "metadata": {},
   "outputs": [],
   "source": [
    "final_data = pd.concat([cleaned1, ad_filt], ignore_index = True)"
   ]
  },
  {
   "cell_type": "code",
   "execution_count": null,
   "id": "15bf9bf9-a257-4d70-8e13-d14e5fa0fd50",
   "metadata": {},
   "outputs": [],
   "source": [
    "final_data.isnull().sum()"
   ]
  },
  {
   "cell_type": "code",
   "execution_count": null,
   "id": "bae1f9a2-5a1b-40a3-98ba-a6c61aab2019",
   "metadata": {},
   "outputs": [],
   "source": [
    "final_data.shape"
   ]
  },
  {
   "cell_type": "code",
   "execution_count": null,
   "id": "99c6a008-4776-4d27-a757-601db4dc8df4",
   "metadata": {},
   "outputs": [],
   "source": [
    "final_data.describe()"
   ]
  },
  {
   "cell_type": "code",
   "execution_count": null,
   "id": "c7bedba5-6e07-4b66-9e62-deff98475e3a",
   "metadata": {},
   "outputs": [],
   "source": [
    "final_data.to_csv('cleaned_data', index = False)"
   ]
  },
  {
   "cell_type": "code",
   "execution_count": null,
   "id": "3f3e592b-cb82-4095-8767-480dd6cf80f0",
   "metadata": {},
   "outputs": [],
   "source": [
    "cldata[cldata['Quantity'] < 0].shape"
   ]
  },
  {
   "cell_type": "code",
   "execution_count": null,
   "id": "441e9ff4-7962-4ce2-ba44-796d5a90f305",
   "metadata": {},
   "outputs": [],
   "source": [
    "return_data = cldata[cldata['InvoiceIdentity'] == 'Cancellation/Return']"
   ]
  },
  {
   "cell_type": "code",
   "execution_count": null,
   "id": "e08de17c-b8bb-4b70-889c-8d61a0d8afb2",
   "metadata": {},
   "outputs": [],
   "source": [
    "return_data.to_csv('return_data', index = False)"
   ]
  },
  {
   "cell_type": "code",
   "execution_count": null,
   "id": "125b3522-35f7-46d3-830a-2bc5a62adef3",
   "metadata": {},
   "outputs": [],
   "source": [
    "data['StockCode']"
   ]
  }
 ],
 "metadata": {
  "kernelspec": {
   "display_name": "Python 3 (ipykernel)",
   "language": "python",
   "name": "python3"
  },
  "language_info": {
   "codemirror_mode": {
    "name": "ipython",
    "version": 3
   },
   "file_extension": ".py",
   "mimetype": "text/x-python",
   "name": "python",
   "nbconvert_exporter": "python",
   "pygments_lexer": "ipython3",
   "version": "3.12.7"
  }
 },
 "nbformat": 4,
 "nbformat_minor": 5
}
